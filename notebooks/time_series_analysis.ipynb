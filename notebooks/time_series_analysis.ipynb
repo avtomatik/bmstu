{
 "cells": [
  {
   "cell_type": "code",
   "execution_count": 1,
   "id": "b2176cbc",
   "metadata": {},
   "outputs": [],
   "source": [
    "from random import random\n",
    "\n",
    "from statsmodels.tsa.arima.model import ARIMA"
   ]
  },
  {
   "cell_type": "code",
   "execution_count": 2,
   "id": "3551f111",
   "metadata": {},
   "outputs": [
    {
     "data": {
      "text/plain": [
       "[0.469641798093444,\n",
       " 0.5696740090867146,\n",
       " 0.8816118419446952,\n",
       " 0.8814249844130165,\n",
       " 0.7106867611994668,\n",
       " 0.4851682361387444,\n",
       " 0.8982937741659162,\n",
       " 0.5590897621376834,\n",
       " 0.5176731161974892,\n",
       " 0.5820576799855757,\n",
       " 0.22348617839156337,\n",
       " 0.4142964105618503,\n",
       " 0.07490298053764832,\n",
       " 0.6883595645766262,\n",
       " 0.5644619617443556,\n",
       " 0.18835875552991332,\n",
       " 0.11637809241962949,\n",
       " 0.5843992797364032,\n",
       " 0.4222674276597479,\n",
       " 0.39935299437427396]"
      ]
     },
     "execution_count": 2,
     "metadata": {},
     "output_type": "execute_result"
    }
   ],
   "source": [
    "n_observations = 20\n",
    "\n",
    "data = [random() for _ in range(n_observations)]\n",
    "data"
   ]
  },
  {
   "cell_type": "code",
   "execution_count": 3,
   "id": "de3c8447",
   "metadata": {},
   "outputs": [
    {
     "data": {
      "text/plain": [
       "array([0.51157438, 0.51157438, 0.51157438, 0.51157438, 0.51157438,\n",
       "       0.51157438, 0.51157438, 0.51157438, 0.51157438, 0.51157438,\n",
       "       0.51157438])"
      ]
     },
     "execution_count": 3,
     "metadata": {},
     "output_type": "execute_result"
    }
   ],
   "source": [
    "model = ARIMA(data)\n",
    "model_fit = model.fit()\n",
    "data_prediction = model_fit.predict(n_observations, 10 + n_observations)\n",
    "data_prediction"
   ]
  },
  {
   "cell_type": "code",
   "execution_count": 4,
   "id": "2d692bae",
   "metadata": {},
   "outputs": [
    {
     "data": {
      "text/plain": [
       "array([0.51037981, 0.49909024, 0.50318694, 0.51042091, 0.51042091,\n",
       "       0.51042091, 0.51042091, 0.51042091, 0.51042091, 0.51042091,\n",
       "       0.51042091])"
      ]
     },
     "execution_count": 4,
     "metadata": {},
     "output_type": "execute_result"
    }
   ],
   "source": [
    "model = ARIMA(data, order=(0, 0, 3))\n",
    "model_fit = model.fit()\n",
    "data_prediction = model_fit.predict(n_observations, 10 + n_observations)\n",
    "data_prediction"
   ]
  },
  {
   "cell_type": "code",
   "execution_count": 5,
   "id": "130b55d7",
   "metadata": {},
   "outputs": [
    {
     "data": {
      "text/plain": [
       "array([0.49076708, 0.51015372, 0.51015372, 0.51015372, 0.51015372,\n",
       "       0.51015372, 0.51015372, 0.51015372, 0.51015372, 0.51015372,\n",
       "       0.51015372])"
      ]
     },
     "execution_count": 5,
     "metadata": {},
     "output_type": "execute_result"
    }
   ],
   "source": [
    "model = ARIMA(data, order=(0, 0, 1))\n",
    "model_fit = model.fit()\n",
    "data_prediction = model_fit.predict(n_observations, 10 + n_observations)\n",
    "data_prediction"
   ]
  },
  {
   "cell_type": "code",
   "execution_count": 6,
   "id": "69431bf0",
   "metadata": {},
   "outputs": [
    {
     "name": "stderr",
     "output_type": "stream",
     "text": [
      "/home/green-machine/anaconda3/lib/python3.9/site-packages/statsmodels/base/model.py:604: ConvergenceWarning: Maximum Likelihood optimization failed to converge. Check mle_retvals\n",
      "  warnings.warn(\"Maximum Likelihood optimization failed to \"\n"
     ]
    },
    {
     "data": {
      "text/plain": [
       "array([0.46526824, 0.47721452, 0.4757671 , 0.48527042, 0.49317718,\n",
       "       0.49703576, 0.5004238 , 0.50354773, 0.50585486, 0.5076055 ,\n",
       "       0.50903286])"
      ]
     },
     "execution_count": 6,
     "metadata": {},
     "output_type": "execute_result"
    }
   ],
   "source": [
    "model = ARIMA(data, order=(3, 0, 1))\n",
    "model_fit = model.fit()\n",
    "data_prediction = model_fit.predict(n_observations, 10 + n_observations)\n",
    "data_prediction"
   ]
  },
  {
   "cell_type": "code",
   "execution_count": 7,
   "id": "b772e86c",
   "metadata": {},
   "outputs": [
    {
     "data": {
      "text/plain": [
       "[0.45117783140289525,\n",
       " 0.18625204773060056,\n",
       " 0.6064921405001448,\n",
       " 0.5077958478729918,\n",
       " 0.9189421608120963,\n",
       " 0.04581785952473105,\n",
       " 0.3392255469129458,\n",
       " 0.18519480570436786,\n",
       " 0.18888622272702604,\n",
       " 0.10205006028120112,\n",
       " 0.02769333023308873,\n",
       " 0.0197733941224828,\n",
       " 0.04976556720145031,\n",
       " 0.6239806432816829,\n",
       " 0.10549285192866609,\n",
       " 0.14670418599621438,\n",
       " 0.32902905941535643,\n",
       " 0.4020993154046588,\n",
       " 0.9446276749787035,\n",
       " 0.00533117265267069,\n",
       " 0.8057125423605883,\n",
       " 0.1217008477627699,\n",
       " 0.5000490555083583,\n",
       " 0.13750185528862324,\n",
       " 0.5138790104530965,\n",
       " 0.32517386290514416,\n",
       " 0.5739421270370375,\n",
       " 0.6336025456193781,\n",
       " 0.5968790451757682,\n",
       " 0.8589386296771478,\n",
       " 0.8011398216984409,\n",
       " 0.5461554357757552,\n",
       " 0.9222571126235963,\n",
       " 0.37332719431413675,\n",
       " 0.5467223286680385,\n",
       " 0.949049068777301,\n",
       " 0.031622800162796616,\n",
       " 0.2682414332457055,\n",
       " 0.9268122185959163,\n",
       " 0.37251684705566857,\n",
       " 0.14340195579985437,\n",
       " 0.8535362089715348,\n",
       " 0.010808114497693588,\n",
       " 0.44805131598441195,\n",
       " 0.4926212167513614,\n",
       " 0.3496542465237398,\n",
       " 0.657485472878222,\n",
       " 0.49833669001076986,\n",
       " 0.291598813467113,\n",
       " 0.5756238161987132,\n",
       " 0.31113726992616386,\n",
       " 0.7724189309032766,\n",
       " 0.1808679116779871,\n",
       " 0.4074275268002442,\n",
       " 0.698236596554452,\n",
       " 0.357172687793326,\n",
       " 0.5348171089136564,\n",
       " 0.8623503695920426,\n",
       " 0.9886764718145757,\n",
       " 0.013317248647985114,\n",
       " 0.9619992460944242,\n",
       " 0.6589666144110542,\n",
       " 0.19647748804335685,\n",
       " 0.6688074265249385,\n",
       " 0.13466622253926497,\n",
       " 0.25549472568419096,\n",
       " 0.32337226464633906,\n",
       " 0.13105675158590424,\n",
       " 0.6008925989820275,\n",
       " 0.2101761504788675,\n",
       " 0.05437487884595715,\n",
       " 0.4773985433934298,\n",
       " 0.6123601928570975,\n",
       " 0.3578264538525743,\n",
       " 0.8025402823253923,\n",
       " 0.22171075703355936,\n",
       " 0.3193003095061452,\n",
       " 0.39307446860919504,\n",
       " 0.6508271464381807,\n",
       " 0.06730942942047724,\n",
       " 0.6583299635197768,\n",
       " 0.006007677699608749,\n",
       " 0.6713314075051475,\n",
       " 0.4979510054260615,\n",
       " 0.570572449686763,\n",
       " 0.643495766109351,\n",
       " 0.6001799611751883,\n",
       " 0.7986637990797754,\n",
       " 0.24670921870517604,\n",
       " 0.4570635541771667,\n",
       " 0.6148729661117551,\n",
       " 0.9148036450438444,\n",
       " 0.633593859463659,\n",
       " 0.31682731841592193,\n",
       " 0.15193819798422192,\n",
       " 0.06615114980477843,\n",
       " 0.4973269168328087,\n",
       " 0.7027224440708378,\n",
       " 0.518259009945495,\n",
       " 0.22073856567258865,\n",
       " 0.9256206395281125,\n",
       " 0.9678869521118264,\n",
       " 0.8004136061902889,\n",
       " 0.43192169159549065,\n",
       " 0.47159848019976924,\n",
       " 0.02313193046533968,\n",
       " 0.07208081105928665,\n",
       " 0.28940462300003744,\n",
       " 0.8769762532496823,\n",
       " 0.9382223318617935,\n",
       " 0.4511468003822777,\n",
       " 0.06286340458834849,\n",
       " 0.7246098611705059,\n",
       " 0.20042193797980323,\n",
       " 0.7310227401022118,\n",
       " 0.9923403271310538,\n",
       " 0.8680136089266737,\n",
       " 0.26237026892573545,\n",
       " 0.46642909714925995,\n",
       " 0.22542752136085975,\n",
       " 0.07393514478425889,\n",
       " 0.004727224923836593,\n",
       " 0.50406777266227,\n",
       " 0.7237099373856634,\n",
       " 0.3043506005136857,\n",
       " 0.6958787455548431,\n",
       " 0.5715515643188919,\n",
       " 0.6147668279617785,\n",
       " 0.2053920290684601,\n",
       " 0.6679974974699018,\n",
       " 0.7134209145173858,\n",
       " 0.44593267889821653,\n",
       " 0.4029590342135865,\n",
       " 0.8828012675260443,\n",
       " 0.5803990676613844,\n",
       " 0.11756971379097003,\n",
       " 0.6944670716010934,\n",
       " 0.05670815325177325,\n",
       " 0.5776664415986965,\n",
       " 0.8955139742222105,\n",
       " 0.7160625691517633,\n",
       " 0.6971510390858482,\n",
       " 0.08939907961236393,\n",
       " 0.8929121836801001,\n",
       " 0.9609356325215836,\n",
       " 0.4879793807804377,\n",
       " 0.9840140960727919,\n",
       " 0.45811219385507895,\n",
       " 0.007323172655394616,\n",
       " 0.949443399669976,\n",
       " 0.7917630060023049,\n",
       " 0.7532766565364515,\n",
       " 0.043840458175149255,\n",
       " 0.62685169356661,\n",
       " 0.3913694422038767,\n",
       " 0.6536815295425552,\n",
       " 0.4131691883622247,\n",
       " 0.7067781880409355,\n",
       " 0.8441207342464417,\n",
       " 0.7847772682680136,\n",
       " 0.4549889807618376,\n",
       " 0.30117342100860667,\n",
       " 0.8301146863369013,\n",
       " 0.5018698908202516,\n",
       " 0.36583616218617143,\n",
       " 0.3513370621035248,\n",
       " 0.008653538226549462,\n",
       " 0.23517100562423732,\n",
       " 0.2697659671750947,\n",
       " 0.727088569855016,\n",
       " 0.08350599048581264,\n",
       " 0.2173997719984816,\n",
       " 0.9343755920003031,\n",
       " 0.6579959462992078,\n",
       " 0.6515431316475322,\n",
       " 0.18401925420780696,\n",
       " 0.6623581638553339,\n",
       " 0.0717726647314254,\n",
       " 0.7828051669780611,\n",
       " 0.5964546019650117,\n",
       " 0.08397287058450464,\n",
       " 0.7857288139044439,\n",
       " 0.414048287010064,\n",
       " 0.10530090274433235,\n",
       " 0.9103161537493275,\n",
       " 0.756098966187352,\n",
       " 0.7776100115750753,\n",
       " 0.7294340884143344,\n",
       " 0.46652722957182924,\n",
       " 0.46206236066128004,\n",
       " 0.0019460312911075972,\n",
       " 0.23340743575707446,\n",
       " 0.08898302401154667,\n",
       " 0.7102860862776335,\n",
       " 0.43067604162812456,\n",
       " 0.5194108949267346,\n",
       " 0.18195694175630772,\n",
       " 0.193902918261869,\n",
       " 0.21090213714999406,\n",
       " 0.57335859354932]"
      ]
     },
     "execution_count": 7,
     "metadata": {},
     "output_type": "execute_result"
    }
   ],
   "source": [
    "n_observations = 200\n",
    "\n",
    "data = [random() for _ in range(n_observations)]\n",
    "data"
   ]
  },
  {
   "cell_type": "code",
   "execution_count": 8,
   "id": "04a363f8",
   "metadata": {},
   "outputs": [
    {
     "data": {
      "text/plain": [
       "array([0.44575243, 0.46597583, 0.48030606, 0.46852842, 0.47378078,\n",
       "       0.47285182, 0.47251987, 0.47293593, 0.47274501, 0.47279214,\n",
       "       0.47280006])"
      ]
     },
     "execution_count": 8,
     "metadata": {},
     "output_type": "execute_result"
    }
   ],
   "source": [
    "model = ARIMA(data, order=(3, 0, 1))\n",
    "model_fit = model.fit()\n",
    "data_prediction = model_fit.predict(n_observations, 10 + n_observations)\n",
    "data_prediction"
   ]
  },
  {
   "cell_type": "code",
   "execution_count": 9,
   "id": "e9d86aa4",
   "metadata": {},
   "outputs": [
    {
     "data": {
      "text/plain": [
       "[0.6076888862300066,\n",
       " 1.34800386651257,\n",
       " 2.3449938286147685,\n",
       " 3.8827424076735024,\n",
       " 4.403469638702875,\n",
       " 5.57046103654826,\n",
       " 6.221986311013035,\n",
       " 7.916855109360206,\n",
       " 8.322464643003707,\n",
       " 9.977785950680131,\n",
       " 10.204202989102107,\n",
       " 11.052736756604734,\n",
       " 12.972439867174176,\n",
       " 13.71823394783806,\n",
       " 14.274442585841319,\n",
       " 15.55851483497202,\n",
       " 16.242405992577307,\n",
       " 17.251961838815397,\n",
       " 18.30320489723926,\n",
       " 19.138996340319355]"
      ]
     },
     "execution_count": 9,
     "metadata": {},
     "output_type": "execute_result"
    }
   ],
   "source": [
    "n_observations = 20\n",
    "\n",
    "data = [_ + random() for _ in range(n_observations)]\n",
    "data"
   ]
  },
  {
   "cell_type": "code",
   "execution_count": 10,
   "id": "eddde55c",
   "metadata": {},
   "outputs": [
    {
     "name": "stderr",
     "output_type": "stream",
     "text": [
      "/home/green-machine/anaconda3/lib/python3.9/site-packages/statsmodels/tsa/statespace/sarimax.py:966: UserWarning: Non-stationary starting autoregressive parameters found. Using zeros as starting parameters.\n",
      "  warn('Non-stationary starting autoregressive parameters'\n",
      "/home/green-machine/anaconda3/lib/python3.9/site-packages/statsmodels/tsa/statespace/sarimax.py:978: UserWarning: Non-invertible starting MA parameters found. Using zeros as starting parameters.\n",
      "  warn('Non-invertible starting MA parameters found.'\n"
     ]
    },
    {
     "data": {
      "text/plain": [
       "array([20.10237592, 21.06574586, 22.02910618, 22.99245685, 23.9557979 ,\n",
       "       24.91912931, 25.88245109, 26.84576323, 27.80906574, 28.77235862,\n",
       "       29.73564186])"
      ]
     },
     "execution_count": 10,
     "metadata": {},
     "output_type": "execute_result"
    }
   ],
   "source": [
    "model = ARIMA(data, order=(1, 1, 1))\n",
    "model_fit = model.fit()\n",
    "data_prediction = model_fit.predict(n_observations, 10 + n_observations)\n",
    "data_prediction"
   ]
  },
  {
   "cell_type": "code",
   "execution_count": 11,
   "id": "fbc72e71",
   "metadata": {},
   "outputs": [],
   "source": [
    "from statsmodels.tsa.statespace.sarimax import SARIMAX"
   ]
  },
  {
   "cell_type": "code",
   "execution_count": 12,
   "id": "99350afc",
   "metadata": {},
   "outputs": [
    {
     "data": {
      "text/plain": [
       "[0.050960298943826365,\n",
       " 1.6630352399022932,\n",
       " 2.055663746371556,\n",
       " 3.708918110657078,\n",
       " 4.252683760115337,\n",
       " 5.336988643318273,\n",
       " 6.6647785816341765,\n",
       " 7.4654393591868,\n",
       " 8.078374442288384,\n",
       " 9.178713099189745,\n",
       " 10.541372754287812,\n",
       " 11.58981655401238,\n",
       " 12.255754614121148,\n",
       " 13.402299159743277,\n",
       " 14.739151092271438,\n",
       " 15.573025592792455,\n",
       " 16.221524536503605,\n",
       " 17.9500732558358,\n",
       " 18.774306849820192,\n",
       " 19.912853850735544]"
      ]
     },
     "execution_count": 12,
     "metadata": {},
     "output_type": "execute_result"
    }
   ],
   "source": [
    "n_observations = 20\n",
    "\n",
    "data = [_ + random() for _ in range(n_observations)]\n",
    "data"
   ]
  },
  {
   "cell_type": "code",
   "execution_count": 13,
   "id": "e0a68252",
   "metadata": {},
   "outputs": [
    {
     "name": "stdout",
     "output_type": "stream",
     "text": [
      "RUNNING THE L-BFGS-B CODE\n",
      "\n",
      "           * * *\n",
      "\n",
      "Machine precision = 2.220D-16\n",
      " N =            3     M =           10\n",
      "\n",
      "At X0         0 variables are exactly at the bounds\n",
      "\n",
      "At iterate    0    f=  1.00493D+02    |proj g|=  5.62989D+02\n",
      "\n",
      "At iterate    5    f=  1.73750D+00    |proj g|=  6.82471D-01\n",
      "\n",
      "At iterate   10    f=  8.66777D-01    |proj g|=  4.07202D-01\n",
      "\n",
      "At iterate   15    f=  7.54173D-01    |proj g|=  2.09521D-01\n",
      "\n",
      "At iterate   20    f=  6.34377D-01    |proj g|=  3.65020D-02\n",
      "\n",
      "At iterate   25    f=  5.95566D-01    |proj g|=  5.50751D-02\n",
      "\n",
      "At iterate   30    f=  5.83874D-01    |proj g|=  1.75362D-03\n",
      "\n",
      "At iterate   35    f=  5.81574D-01    |proj g|=  1.82370D-02\n",
      "\n",
      "At iterate   40    f=  5.81192D-01    |proj g|=  3.88230D-03\n",
      "\n",
      "           * * *\n",
      "\n",
      "Tit   = total number of iterations\n",
      "Tnf   = total number of function evaluations\n",
      "Tnint = total number of segments explored during Cauchy searches\n",
      "Skip  = number of BFGS updates skipped\n",
      "Nact  = number of active bounds at final generalized Cauchy point\n",
      "Projg = norm of the final projected gradient\n",
      "F     = final function value\n",
      "\n",
      "           * * *\n",
      "\n",
      "   N    Tit     Tnf  Tnint  Skip  Nact     Projg        F\n",
      "    3     42     59      1     0     0   6.370D-04   5.812D-01\n",
      "  F =  0.58116975676043647     \n",
      "\n",
      "CONVERGENCE: REL_REDUCTION_OF_F_<=_FACTR*EPSMCH             \n"
     ]
    },
    {
     "name": "stderr",
     "output_type": "stream",
     "text": [
      " This problem is unconstrained.\n",
      "\n",
      " Warning:  more than 10 function and gradient\n",
      "   evaluations in the last line search.  Termination\n",
      "   may possibly be caused by a bad search direction.\n"
     ]
    }
   ],
   "source": [
    "model = SARIMAX(data, order=(1, 1, 1), seasonal_order=(0, 0, 0, 0))\n",
    "model_fit = model.fit()"
   ]
  },
  {
   "cell_type": "code",
   "execution_count": 14,
   "id": "8c299536",
   "metadata": {},
   "outputs": [
    {
     "data": {
      "text/plain": [
       "array([20.95052677, 21.9881886 , 23.02583932, 24.06347894, 25.10110747,\n",
       "       26.1387249 , 27.17633123, 28.21392646, 29.25151059, 30.28908362,\n",
       "       31.32664556])"
      ]
     },
     "execution_count": 14,
     "metadata": {},
     "output_type": "execute_result"
    }
   ],
   "source": [
    "data_prediction = model_fit.predict(n_observations, 10 + n_observations)\n",
    "data_prediction"
   ]
  },
  {
   "cell_type": "code",
   "execution_count": 16,
   "id": "b47affeb",
   "metadata": {},
   "outputs": [
    {
     "data": {
      "text/plain": [
       "[0.11017026232592841,\n",
       " 4.3413954640202315,\n",
       " 2.045920414512903,\n",
       " 6.453254971442544,\n",
       " 4.847469845976997,\n",
       " 8.007627893079402,\n",
       " 6.472194466364989,\n",
       " 10.909082696699059,\n",
       " 8.035029229332762,\n",
       " 12.358521390103204,\n",
       " 10.37056923696528,\n",
       " 14.321090312691018,\n",
       " 12.790814038562532,\n",
       " 16.25402205805407,\n",
       " 14.107065246251372,\n",
       " 18.956263774779046,\n",
       " 16.49022839335284,\n",
       " 20.759127336037352,\n",
       " 18.00463013670481,\n",
       " 22.78907372569034]"
      ]
     },
     "execution_count": 16,
     "metadata": {},
     "output_type": "execute_result"
    }
   ],
   "source": [
    "data = [_ + 3 * _ % 6 + random() for _ in range(n_observations)]\n",
    "data"
   ]
  },
  {
   "cell_type": "code",
   "execution_count": 21,
   "id": "ab2bc87f",
   "metadata": {},
   "outputs": [
    {
     "name": "stderr",
     "output_type": "stream",
     "text": [
      "/home/green-machine/anaconda3/lib/python3.9/site-packages/statsmodels/tsa/statespace/sarimax.py:866: UserWarning: Too few observations to estimate starting parameters for ARMA and trend. All parameters except for variances will be set to zeros.\n",
      "  warn('Too few observations to estimate starting parameters%s.'\n",
      "/home/green-machine/anaconda3/lib/python3.9/site-packages/statsmodels/tsa/statespace/sarimax.py:866: UserWarning: Too few observations to estimate starting parameters for seasonal ARMA. All parameters except for variances will be set to zeros.\n",
      "  warn('Too few observations to estimate starting parameters%s.'\n"
     ]
    },
    {
     "name": "stdout",
     "output_type": "stream",
     "text": [
      "RUNNING THE L-BFGS-B CODE\n",
      "\n",
      "           * * *\n",
      "\n",
      "Machine precision = 2.220D-16\n",
      " N =           15     M =           10\n",
      "\n",
      "At X0         0 variables are exactly at the bounds\n",
      "\n",
      "At iterate    0    f= -0.00000D+00    |proj g|=  0.00000D+00\n",
      "\n",
      "           * * *\n",
      "\n",
      "Tit   = total number of iterations\n",
      "Tnf   = total number of function evaluations\n",
      "Tnint = total number of segments explored during Cauchy searches\n",
      "Skip  = number of BFGS updates skipped\n",
      "Nact  = number of active bounds at final generalized Cauchy point\n",
      "Projg = norm of the final projected gradient\n",
      "F     = final function value\n",
      "\n",
      "           * * *\n",
      "\n",
      "   N    Tit     Tnf  Tnint  Skip  Nact     Projg        F\n",
      "   15      0      1      0     0     0   0.000D+00  -0.000D+00\n",
      "  F =  -0.0000000000000000     \n",
      "\n",
      "CONVERGENCE: NORM_OF_PROJECTED_GRADIENT_<=_PGTOL            \n"
     ]
    },
    {
     "name": "stderr",
     "output_type": "stream",
     "text": [
      " This problem is unconstrained.\n"
     ]
    }
   ],
   "source": [
    "model = SARIMAX(data, order=(1, 1, 1), seasonal_order=(6, 6, 6, 6))\n",
    "model_fit = model.fit()"
   ]
  },
  {
   "cell_type": "code",
   "execution_count": 22,
   "id": "129a4ad3",
   "metadata": {},
   "outputs": [],
   "source": [
    "import numpy as np"
   ]
  },
  {
   "cell_type": "code",
   "execution_count": 25,
   "id": "bf7a92a5",
   "metadata": {},
   "outputs": [
    {
     "data": {
      "text/plain": [
       "[0.39070093525011573,\n",
       " 1.8506189636096844,\n",
       " 2.1140837915022757,\n",
       " 3.1074290857054327,\n",
       " 4.94162103388196,\n",
       " 5.499087874165172,\n",
       " 6.664717274459209,\n",
       " 7.095166143345173,\n",
       " 8.939124915841496,\n",
       " 9.100570143224475,\n",
       " 10.04359302357881,\n",
       " 11.369063881036153,\n",
       " 12.869107772729656,\n",
       " 13.285934745936723,\n",
       " 14.022146100729088,\n",
       " 15.475470624437296,\n",
       " 16.714470804955354,\n",
       " 17.992563156681857,\n",
       " 18.477546023806415,\n",
       " 19.196553682633215]"
      ]
     },
     "execution_count": 25,
     "metadata": {},
     "output_type": "execute_result"
    }
   ],
   "source": [
    "data1 = [_ + random() for _ in range(n_observations)]\n",
    "data2 = [_ + random() for _ in range(n_observations, 20 + n_observations)]\n",
    "data1"
   ]
  },
  {
   "cell_type": "code",
   "execution_count": 26,
   "id": "8157621a",
   "metadata": {},
   "outputs": [
    {
     "data": {
      "text/plain": [
       "[20.430167064220765,\n",
       " 21.972794154480756,\n",
       " 22.856588430958634,\n",
       " 23.387589639048013,\n",
       " 24.245817100219462,\n",
       " 25.214754877450194,\n",
       " 26.00140876702679,\n",
       " 27.3641304292822,\n",
       " 28.945477407880094,\n",
       " 29.858334486837094,\n",
       " 30.406661362631965,\n",
       " 31.763059221513725,\n",
       " 32.50486335134529,\n",
       " 33.208255466724204,\n",
       " 34.62873568681229,\n",
       " 35.73485916367702,\n",
       " 36.52969608488716,\n",
       " 37.66587132226137,\n",
       " 38.170901681164025,\n",
       " 39.16750102007813]"
      ]
     },
     "execution_count": 26,
     "metadata": {},
     "output_type": "execute_result"
    }
   ],
   "source": [
    "data2"
   ]
  },
  {
   "cell_type": "code",
   "execution_count": 28,
   "id": "849072e3",
   "metadata": {},
   "outputs": [],
   "source": [
    "model = SARIMAX(data1, exog=data2, order=(0, 0, 0,), seasonal_order=(1, 1, 1, 2))"
   ]
  },
  {
   "cell_type": "code",
   "execution_count": 29,
   "id": "b9ad281c",
   "metadata": {},
   "outputs": [
    {
     "name": "stdout",
     "output_type": "stream",
     "text": [
      "RUNNING THE L-BFGS-B CODE\n",
      "\n",
      "           * * *\n",
      "\n",
      "Machine precision = 2.220D-16\n",
      " N =            4     M =           10\n",
      "\n",
      "At X0         0 variables are exactly at the bounds\n",
      "\n",
      "At iterate    0    f=  7.30861D-01    |proj g|=  1.11601D+00\n",
      "\n",
      "At iterate    5    f=  7.03837D-01    |proj g|=  2.31784D-01\n",
      "\n",
      "At iterate   10    f=  6.11162D-01    |proj g|=  1.09567D-01\n",
      "\n",
      "At iterate   15    f=  6.08680D-01    |proj g|=  2.36604D-02\n",
      "\n",
      "At iterate   20    f=  6.07886D-01    |proj g|=  5.91453D-02\n",
      "\n",
      "At iterate   25    f=  6.07758D-01    |proj g|=  2.73129D-03\n",
      "\n",
      "At iterate   30    f=  6.07747D-01    |proj g|=  7.10275D-03\n",
      "\n",
      "At iterate   35    f=  6.07741D-01    |proj g|=  2.50627D-02\n",
      "\n",
      "           * * *\n",
      "\n",
      "Tit   = total number of iterations\n",
      "Tnf   = total number of function evaluations\n",
      "Tnint = total number of segments explored during Cauchy searches\n",
      "Skip  = number of BFGS updates skipped\n",
      "Nact  = number of active bounds at final generalized Cauchy point\n",
      "Projg = norm of the final projected gradient\n",
      "F     = final function value\n",
      "\n",
      "           * * *\n",
      "\n",
      "   N    Tit     Tnf  Tnint  Skip  Nact     Projg        F\n",
      "    4     35     64      1     0     0   2.506D-02   6.077D-01\n",
      "  F =  0.60774098353634143     \n",
      "\n",
      "CONVERGENCE: REL_REDUCTION_OF_F_<=_FACTR*EPSMCH             \n"
     ]
    },
    {
     "name": "stderr",
     "output_type": "stream",
     "text": [
      " This problem is unconstrained.\n",
      "\n",
      " Warning:  more than 10 function and gradient\n",
      "   evaluations in the last line search.  Termination\n",
      "   may possibly be caused by a bad search direction.\n"
     ]
    }
   ],
   "source": [
    "model_fit = model.fit()"
   ]
  },
  {
   "cell_type": "code",
   "execution_count": 40,
   "id": "88a12520",
   "metadata": {},
   "outputs": [
    {
     "data": {
      "text/plain": [
       "array([[40.17365419],\n",
       "       [41.59602842],\n",
       "       [42.74630511],\n",
       "       [43.05032923],\n",
       "       [44.83984253],\n",
       "       [45.21405909],\n",
       "       [46.57743473],\n",
       "       [47.67959728],\n",
       "       [48.39619534],\n",
       "       [49.39933128]])"
      ]
     },
     "execution_count": 40,
     "metadata": {},
     "output_type": "execute_result"
    }
   ],
   "source": [
    "exog2 = np.array(\n",
    "    [_ + random() for _ in range(20 + n_observations, 30 + n_observations)]\n",
    ").reshape((10, 1))\n",
    "exog2"
   ]
  },
  {
   "cell_type": "code",
   "execution_count": 42,
   "id": "b84d65d7",
   "metadata": {},
   "outputs": [
    {
     "data": {
      "text/plain": [
       "array([20.28990404, 21.53569841, 22.88750907, 23.00382928, 24.99596919,\n",
       "       25.18308359, 26.74611762, 27.66643278, 28.57801435, 29.39858776])"
      ]
     },
     "execution_count": 42,
     "metadata": {},
     "output_type": "execute_result"
    }
   ],
   "source": [
    "data_prediction = model_fit.predict(n_observations, 9 + n_observations, exog=exog2)\n",
    "data_prediction"
   ]
  },
  {
   "cell_type": "code",
   "execution_count": null,
   "id": "9a8a1040",
   "metadata": {},
   "outputs": [],
   "source": []
  }
 ],
 "metadata": {
  "kernelspec": {
   "display_name": "Python 3 (ipykernel)",
   "language": "python",
   "name": "python3"
  },
  "language_info": {
   "codemirror_mode": {
    "name": "ipython",
    "version": 3
   },
   "file_extension": ".py",
   "mimetype": "text/x-python",
   "name": "python",
   "nbconvert_exporter": "python",
   "pygments_lexer": "ipython3",
   "version": "3.9.13"
  }
 },
 "nbformat": 4,
 "nbformat_minor": 5
}
