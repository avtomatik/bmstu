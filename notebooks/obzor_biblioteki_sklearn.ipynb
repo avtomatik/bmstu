{
 "cells": [
  {
   "cell_type": "markdown",
   "metadata": {
    "id": "xdYq_Gyn8MFf"
   },
   "source": [
    "#Обзор библиотеки Sklearn"
   ]
  },
  {
   "cell_type": "markdown",
   "metadata": {
    "id": "QndD41uN9dKQ"
   },
   "source": [
    "##import"
   ]
  },
  {
   "cell_type": "code",
   "execution_count": 1,
   "metadata": {
    "executionInfo": {
     "elapsed": 350,
     "status": "ok",
     "timestamp": 1623866732541,
     "user": {
      "displayName": "Grigoriy Sokolov",
      "photoUrl": "https://lh3.googleusercontent.com/a-/AOh14Gj-ZBIgB1V3q5C_Es-ph_9_siNMENlYsnWqID71DTA=s64",
      "userId": "08935654732606601294"
     },
     "user_tz": -180
    },
    "id": "mupUyIh07j2k"
   },
   "outputs": [],
   "source": [
    "import sklearn"
   ]
  },
  {
   "cell_type": "code",
   "execution_count": null,
   "metadata": {
    "id": "wbACClrW__aZ"
   },
   "outputs": [],
   "source": []
  },
  {
   "cell_type": "markdown",
   "metadata": {
    "id": "vXe8yBWA9fTN"
   },
   "source": [
    "##Datasets"
   ]
  },
  {
   "cell_type": "markdown",
   "metadata": {
    "id": "4XTncDkf9sqr"
   },
   "source": [
    "### toy dataset"
   ]
  },
  {
   "cell_type": "code",
   "execution_count": 2,
   "metadata": {
    "executionInfo": {
     "elapsed": 352,
     "status": "ok",
     "timestamp": 1623866885291,
     "user": {
      "displayName": "Grigoriy Sokolov",
      "photoUrl": "https://lh3.googleusercontent.com/a-/AOh14Gj-ZBIgB1V3q5C_Es-ph_9_siNMENlYsnWqID71DTA=s64",
      "userId": "08935654732606601294"
     },
     "user_tz": -180
    },
    "id": "qhPFcoEG9hRd"
   },
   "outputs": [],
   "source": [
    "from sklearn.datasets import load_boston #дома Бостон с описанием признаков и ценой"
   ]
  },
  {
   "cell_type": "code",
   "execution_count": 4,
   "metadata": {
    "executionInfo": {
     "elapsed": 333,
     "status": "ok",
     "timestamp": 1623866924743,
     "user": {
      "displayName": "Grigoriy Sokolov",
      "photoUrl": "https://lh3.googleusercontent.com/a-/AOh14Gj-ZBIgB1V3q5C_Es-ph_9_siNMENlYsnWqID71DTA=s64",
      "userId": "08935654732606601294"
     },
     "user_tz": -180
    },
    "id": "3kAQ5NE2Aku5"
   },
   "outputs": [],
   "source": [
    "X, y  = load_boston(return_X_y = True)\n",
    "X.shape"
   ]
  },
  {
   "cell_type": "code",
   "execution_count": 7,
   "metadata": {
    "executionInfo": {
     "elapsed": 367,
     "status": "ok",
     "timestamp": 1623867043227,
     "user": {
      "displayName": "Grigoriy Sokolov",
      "photoUrl": "https://lh3.googleusercontent.com/a-/AOh14Gj-ZBIgB1V3q5C_Es-ph_9_siNMENlYsnWqID71DTA=s64",
      "userId": "08935654732606601294"
     },
     "user_tz": -180
    },
    "id": "aao6MMoPA6o4"
   },
   "outputs": [],
   "source": [
    "from sklearn.datasets import load_iris #классификация растений"
   ]
  },
  {
   "cell_type": "code",
   "execution_count": 8,
   "metadata": {
    "executionInfo": {
     "elapsed": 366,
     "status": "ok",
     "timestamp": 1623867077143,
     "user": {
      "displayName": "Grigoriy Sokolov",
      "photoUrl": "https://lh3.googleusercontent.com/a-/AOh14Gj-ZBIgB1V3q5C_Es-ph_9_siNMENlYsnWqID71DTA=s64",
      "userId": "08935654732606601294"
     },
     "user_tz": -180
    },
    "id": "XSsZTQWkBKRQ"
   },
   "outputs": [],
   "source": [
    "data = load_iris()\n"
   ]
  },
  {
   "cell_type": "code",
   "execution_count": 9,
   "metadata": {
    "colab": {
     "base_uri": "https://localhost:8080/"
    },
    "executionInfo": {
     "elapsed": 316,
     "status": "ok",
     "timestamp": 1623867094299,
     "user": {
      "displayName": "Grigoriy Sokolov",
      "photoUrl": "https://lh3.googleusercontent.com/a-/AOh14Gj-ZBIgB1V3q5C_Es-ph_9_siNMENlYsnWqID71DTA=s64",
      "userId": "08935654732606601294"
     },
     "user_tz": -180
    },
    "id": "BMvdlgffBTT6",
    "outputId": "03c33b4a-7082-49b8-b53c-8ddd73437add"
   },
   "outputs": [
    {
     "data": {
      "text/plain": [
       "['sepal length (cm)',\n",
       " 'sepal width (cm)',\n",
       " 'petal length (cm)',\n",
       " 'petal width (cm)']"
      ]
     },
     "execution_count": 9,
     "metadata": {
      "tags": []
     },
     "output_type": "execute_result"
    }
   ],
   "source": [
    "data.feature_names # признаки датасета\n"
   ]
  },
  {
   "cell_type": "code",
   "execution_count": 10,
   "metadata": {
    "colab": {
     "base_uri": "https://localhost:8080/"
    },
    "executionInfo": {
     "elapsed": 335,
     "status": "ok",
     "timestamp": 1623867114916,
     "user": {
      "displayName": "Grigoriy Sokolov",
      "photoUrl": "https://lh3.googleusercontent.com/a-/AOh14Gj-ZBIgB1V3q5C_Es-ph_9_siNMENlYsnWqID71DTA=s64",
      "userId": "08935654732606601294"
     },
     "user_tz": -180
    },
    "id": "70mvhlheBXdL",
    "outputId": "eae87a41-73a1-4a69-9378-b17c44b84c72"
   },
   "outputs": [
    {
     "data": {
      "text/plain": [
       "array(['setosa', 'versicolor', 'virginica'], dtype='<U10')"
      ]
     },
     "execution_count": 10,
     "metadata": {
      "tags": []
     },
     "output_type": "execute_result"
    }
   ],
   "source": [
    "data.target_names #целевые переменные"
   ]
  },
  {
   "cell_type": "code",
   "execution_count": 14,
   "metadata": {
    "colab": {
     "base_uri": "https://localhost:8080/"
    },
    "executionInfo": {
     "elapsed": 322,
     "status": "ok",
     "timestamp": 1623867247972,
     "user": {
      "displayName": "Grigoriy Sokolov",
      "photoUrl": "https://lh3.googleusercontent.com/a-/AOh14Gj-ZBIgB1V3q5C_Es-ph_9_siNMENlYsnWqID71DTA=s64",
      "userId": "08935654732606601294"
     },
     "user_tz": -180
    },
    "id": "xJZD1NbvBdCz",
    "outputId": "7ddae4c4-2517-4dde-ecdb-09f9a0f4e24b"
   },
   "outputs": [
    {
     "data": {
      "text/plain": [
       "array([[5.1, 3.5, 1.4, 0.2],\n",
       "       [4.9, 3. , 1.4, 0.2],\n",
       "       [4.7, 3.2, 1.3, 0.2],\n",
       "       [4.6, 3.1, 1.5, 0.2],\n",
       "       [5. , 3.6, 1.4, 0.2],\n",
       "       [5.4, 3.9, 1.7, 0.4],\n",
       "       [4.6, 3.4, 1.4, 0.3],\n",
       "       [5. , 3.4, 1.5, 0.2],\n",
       "       [4.4, 2.9, 1.4, 0.2],\n",
       "       [4.9, 3.1, 1.5, 0.1]])"
      ]
     },
     "execution_count": 14,
     "metadata": {
      "tags": []
     },
     "output_type": "execute_result"
    }
   ],
   "source": [
    "data.data[:10]"
   ]
  },
  {
   "cell_type": "code",
   "execution_count": 15,
   "metadata": {
    "executionInfo": {
     "elapsed": 419,
     "status": "ok",
     "timestamp": 1623867335042,
     "user": {
      "displayName": "Grigoriy Sokolov",
      "photoUrl": "https://lh3.googleusercontent.com/a-/AOh14Gj-ZBIgB1V3q5C_Es-ph_9_siNMENlYsnWqID71DTA=s64",
      "userId": "08935654732606601294"
     },
     "user_tz": -180
    },
    "id": "aJUEnLqPB7XO"
   },
   "outputs": [],
   "source": [
    "from sklearn.datasets import load_diabetes #для задач регрессии"
   ]
  },
  {
   "cell_type": "code",
   "execution_count": 16,
   "metadata": {
    "colab": {
     "base_uri": "https://localhost:8080/"
    },
    "executionInfo": {
     "elapsed": 324,
     "status": "ok",
     "timestamp": 1623867391111,
     "user": {
      "displayName": "Grigoriy Sokolov",
      "photoUrl": "https://lh3.googleusercontent.com/a-/AOh14Gj-ZBIgB1V3q5C_Es-ph_9_siNMENlYsnWqID71DTA=s64",
      "userId": "08935654732606601294"
     },
     "user_tz": -180
    },
    "id": "B7TALnAqCSMS",
    "outputId": "32ccc398-9eae-4630-b57d-f08dcbe8351e"
   },
   "outputs": [
    {
     "data": {
      "text/plain": [
       "array([-0.00188202, -0.04464164, -0.05147406, -0.02632783, -0.00844872,\n",
       "       -0.01916334,  0.07441156, -0.03949338, -0.06832974, -0.09220405])"
      ]
     },
     "execution_count": 16,
     "metadata": {
      "tags": []
     },
     "output_type": "execute_result"
    }
   ],
   "source": [
    "X,y = load_diabetes(return_X_y = True)\n",
    "X[1]"
   ]
  },
  {
   "cell_type": "markdown",
   "metadata": {
    "id": "wewKg8pP9u4r"
   },
   "source": [
    "###Real world"
   ]
  },
  {
   "cell_type": "code",
   "execution_count": 18,
   "metadata": {
    "executionInfo": {
     "elapsed": 323,
     "status": "ok",
     "timestamp": 1623867492223,
     "user": {
      "displayName": "Grigoriy Sokolov",
      "photoUrl": "https://lh3.googleusercontent.com/a-/AOh14Gj-ZBIgB1V3q5C_Es-ph_9_siNMENlYsnWqID71DTA=s64",
      "userId": "08935654732606601294"
     },
     "user_tz": -180
    },
    "id": "QES6eI0H9vGn"
   },
   "outputs": [],
   "source": [
    "from sklearn.datasets import fetch_california_housing # для задач регрессии"
   ]
  },
  {
   "cell_type": "code",
   "execution_count": 19,
   "metadata": {
    "colab": {
     "base_uri": "https://localhost:8080/"
    },
    "executionInfo": {
     "elapsed": 1965,
     "status": "ok",
     "timestamp": 1623867542829,
     "user": {
      "displayName": "Grigoriy Sokolov",
      "photoUrl": "https://lh3.googleusercontent.com/a-/AOh14Gj-ZBIgB1V3q5C_Es-ph_9_siNMENlYsnWqID71DTA=s64",
      "userId": "08935654732606601294"
     },
     "user_tz": -180
    },
    "id": "EFihEmc3C7rK",
    "outputId": "c63192e2-9d53-46c9-ffff-03650f175b06"
   },
   "outputs": [
    {
     "name": "stderr",
     "output_type": "stream",
     "text": [
      "Downloading Cal. housing from https://ndownloader.figshare.com/files/5976036 to /root/scikit_learn_data\n"
     ]
    },
    {
     "data": {
      "text/plain": [
       "array([[ 8.32520000e+00,  4.10000000e+01,  6.98412698e+00,\n",
       "         1.02380952e+00,  3.22000000e+02,  2.55555556e+00,\n",
       "         3.78800000e+01, -1.22230000e+02],\n",
       "       [ 8.30140000e+00,  2.10000000e+01,  6.23813708e+00,\n",
       "         9.71880492e-01,  2.40100000e+03,  2.10984183e+00,\n",
       "         3.78600000e+01, -1.22220000e+02],\n",
       "       [ 7.25740000e+00,  5.20000000e+01,  8.28813559e+00,\n",
       "         1.07344633e+00,  4.96000000e+02,  2.80225989e+00,\n",
       "         3.78500000e+01, -1.22240000e+02],\n",
       "       [ 5.64310000e+00,  5.20000000e+01,  5.81735160e+00,\n",
       "         1.07305936e+00,  5.58000000e+02,  2.54794521e+00,\n",
       "         3.78500000e+01, -1.22250000e+02],\n",
       "       [ 3.84620000e+00,  5.20000000e+01,  6.28185328e+00,\n",
       "         1.08108108e+00,  5.65000000e+02,  2.18146718e+00,\n",
       "         3.78500000e+01, -1.22250000e+02],\n",
       "       [ 4.03680000e+00,  5.20000000e+01,  4.76165803e+00,\n",
       "         1.10362694e+00,  4.13000000e+02,  2.13989637e+00,\n",
       "         3.78500000e+01, -1.22250000e+02],\n",
       "       [ 3.65910000e+00,  5.20000000e+01,  4.93190661e+00,\n",
       "         9.51361868e-01,  1.09400000e+03,  2.12840467e+00,\n",
       "         3.78400000e+01, -1.22250000e+02],\n",
       "       [ 3.12000000e+00,  5.20000000e+01,  4.79752705e+00,\n",
       "         1.06182380e+00,  1.15700000e+03,  1.78825348e+00,\n",
       "         3.78400000e+01, -1.22250000e+02],\n",
       "       [ 2.08040000e+00,  4.20000000e+01,  4.29411765e+00,\n",
       "         1.11764706e+00,  1.20600000e+03,  2.02689076e+00,\n",
       "         3.78400000e+01, -1.22260000e+02],\n",
       "       [ 3.69120000e+00,  5.20000000e+01,  4.97058824e+00,\n",
       "         9.90196078e-01,  1.55100000e+03,  2.17226891e+00,\n",
       "         3.78400000e+01, -1.22250000e+02]])"
      ]
     },
     "execution_count": 19,
     "metadata": {
      "tags": []
     },
     "output_type": "execute_result"
    }
   ],
   "source": [
    "X, y = fetch_california_housing(return_X_y= True)\n",
    "X[:10]"
   ]
  },
  {
   "cell_type": "code",
   "execution_count": 20,
   "metadata": {
    "executionInfo": {
     "elapsed": 357,
     "status": "ok",
     "timestamp": 1623867606236,
     "user": {
      "displayName": "Grigoriy Sokolov",
      "photoUrl": "https://lh3.googleusercontent.com/a-/AOh14Gj-ZBIgB1V3q5C_Es-ph_9_siNMENlYsnWqID71DTA=s64",
      "userId": "08935654732606601294"
     },
     "user_tz": -180
    },
    "id": "nWYKoY3wC13w"
   },
   "outputs": [],
   "source": [
    "from sklearn.datasets import fetch_20newsgroups #для задач классификации"
   ]
  },
  {
   "cell_type": "code",
   "execution_count": 23,
   "metadata": {
    "colab": {
     "base_uri": "https://localhost:8080/"
    },
    "executionInfo": {
     "elapsed": 808,
     "status": "ok",
     "timestamp": 1623867704846,
     "user": {
      "displayName": "Grigoriy Sokolov",
      "photoUrl": "https://lh3.googleusercontent.com/a-/AOh14Gj-ZBIgB1V3q5C_Es-ph_9_siNMENlYsnWqID71DTA=s64",
      "userId": "08935654732606601294"
     },
     "user_tz": -180
    },
    "id": "yfZElKyUDUc8",
    "outputId": "d7edb94e-e735-4603-d964-a69982483364"
   },
   "outputs": [
    {
     "data": {
      "text/plain": [
       "[\"From: lerxst@wam.umd.edu (where's my thing)\\nSubject: WHAT car is this!?\\nNntp-Posting-Host: rac3.wam.umd.edu\\nOrganization: University of Maryland, College Park\\nLines: 15\\n\\n I was wondering if anyone out there could enlighten me on this car I saw\\nthe other day. It was a 2-door sports car, looked to be from the late 60s/\\nearly 70s. It was called a Bricklin. The doors were really small. In addition,\\nthe front bumper was separate from the rest of the body. This is \\nall I know. If anyone can tellme a model name, engine specs, years\\nof production, where this car is made, history, or whatever info you\\nhave on this funky looking car, please e-mail.\\n\\nThanks,\\n- IL\\n   ---- brought to you by your neighborhood Lerxst ----\\n\\n\\n\\n\\n\",\n",
       " \"From: guykuo@carson.u.washington.edu (Guy Kuo)\\nSubject: SI Clock Poll - Final Call\\nSummary: Final call for SI clock reports\\nKeywords: SI,acceleration,clock,upgrade\\nArticle-I.D.: shelley.1qvfo9INNc3s\\nOrganization: University of Washington\\nLines: 11\\nNNTP-Posting-Host: carson.u.washington.edu\\n\\nA fair number of brave souls who upgraded their SI clock oscillator have\\nshared their experiences for this poll. Please send a brief message detailing\\nyour experiences with the procedure. Top speed attained, CPU rated speed,\\nadd on cards and adapters, heat sinks, hour of usage per day, floppy disk\\nfunctionality with 800 and 1.4 m floppies are especially requested.\\n\\nI will be summarizing in the next two days, so please add to the network\\nknowledge base if you have done the clock upgrade and haven't answered this\\npoll. Thanks.\\n\\nGuy Kuo <guykuo@u.washington.edu>\\n\",\n",
       " 'From: twillis@ec.ecn.purdue.edu (Thomas E Willis)\\nSubject: PB questions...\\nOrganization: Purdue University Engineering Computer Network\\nDistribution: usa\\nLines: 36\\n\\nwell folks, my mac plus finally gave up the ghost this weekend after\\nstarting life as a 512k way back in 1985.  sooo, i\\'m in the market for a\\nnew machine a bit sooner than i intended to be...\\n\\ni\\'m looking into picking up a powerbook 160 or maybe 180 and have a bunch\\nof questions that (hopefully) somebody can answer:\\n\\n* does anybody know any dirt on when the next round of powerbook\\nintroductions are expected?  i\\'d heard the 185c was supposed to make an\\nappearence \"this summer\" but haven\\'t heard anymore on it - and since i\\ndon\\'t have access to macleak, i was wondering if anybody out there had\\nmore info...\\n\\n* has anybody heard rumors about price drops to the powerbook line like the\\nones the duo\\'s just went through recently?\\n\\n* what\\'s the impression of the display on the 180?  i could probably swing\\na 180 if i got the 80Mb disk rather than the 120, but i don\\'t really have\\na feel for how much \"better\" the display is (yea, it looks great in the\\nstore, but is that all \"wow\" or is it really that good?).  could i solicit\\nsome opinions of people who use the 160 and 180 day-to-day on if its worth\\ntaking the disk size and money hit to get the active display?  (i realize\\nthis is a real subjective question, but i\\'ve only played around with the\\nmachines in a computer store breifly and figured the opinions of somebody\\nwho actually uses the machine daily might prove helpful).\\n\\n* how well does hellcats perform?  ;)\\n\\nthanks a bunch in advance for any info - if you could email, i\\'ll post a\\nsummary (news reading time is at a premium with finals just around the\\ncorner... :( )\\n--\\nTom Willis  \\\\  twillis@ecn.purdue.edu    \\\\    Purdue Electrical Engineering\\n---------------------------------------------------------------------------\\n\"Convictions are more dangerous enemies of truth than lies.\"  - F. W.\\nNietzsche\\n',\n",
       " 'From: jgreen@amber (Joe Green)\\nSubject: Re: Weitek P9000 ?\\nOrganization: Harris Computer Systems Division\\nLines: 14\\nDistribution: world\\nNNTP-Posting-Host: amber.ssd.csd.harris.com\\nX-Newsreader: TIN [version 1.1 PL9]\\n\\nRobert J.C. Kyanko (rob@rjck.UUCP) wrote:\\n> abraxis@iastate.edu writes in article <abraxis.734340159@class1.iastate.edu>:\\n> > Anyone know about the Weitek P9000 graphics chip?\\n> As far as the low-level stuff goes, it looks pretty nice.  It\\'s got this\\n> quadrilateral fill command that requires just the four points.\\n\\nDo you have Weitek\\'s address/phone number?  I\\'d like to get some information\\nabout this chip.\\n\\n--\\nJoe Green\\t\\t\\t\\tHarris Corporation\\njgreen@csd.harris.com\\t\\t\\tComputer Systems Division\\n\"The only thing that really scares me is a person with no sense of humor.\"\\n\\t\\t\\t\\t\\t\\t-- Jonathan Winters\\n',\n",
       " 'From: jcm@head-cfa.harvard.edu (Jonathan McDowell)\\nSubject: Re: Shuttle Launch Question\\nOrganization: Smithsonian Astrophysical Observatory, Cambridge, MA,  USA\\nDistribution: sci\\nLines: 23\\n\\nFrom article <C5owCB.n3p@world.std.com>, by tombaker@world.std.com (Tom A Baker):\\n>>In article <C5JLwx.4H9.1@cs.cmu.edu>, ETRAT@ttacs1.ttu.edu (Pack Rat) writes...\\n>>>\"Clear caution & warning memory.  Verify no unexpected\\n>>>errors. ...\".  I am wondering what an \"expected error\" might\\n>>>be.  Sorry if this is a really dumb question, but\\n> \\n> Parity errors in memory or previously known conditions that were waivered.\\n>    \"Yes that is an error, but we already knew about it\"\\n> I\\'d be curious as to what the real meaning of the quote is.\\n> \\n> tom\\n\\n\\nMy understanding is that the \\'expected errors\\' are basically\\nknown bugs in the warning system software - things are checked\\nthat don\\'t have the right values in yet because they aren\\'t\\nset till after launch, and suchlike. Rather than fix the code\\nand possibly introduce new bugs, they just tell the crew\\n\\'ok, if you see a warning no. 213 before liftoff, ignore it\\'.\\n\\n - Jonathan\\n\\n\\n']"
      ]
     },
     "execution_count": 23,
     "metadata": {
      "tags": []
     },
     "output_type": "execute_result"
    }
   ],
   "source": [
    "X, y  = fetch_20newsgroups(return_X_y = True)\n",
    "X[:5]"
   ]
  },
  {
   "cell_type": "markdown",
   "metadata": {
    "id": "LKapU4IE-lKo"
   },
   "source": [
    "###Dataset generate\n"
   ]
  },
  {
   "cell_type": "code",
   "execution_count": 24,
   "metadata": {
    "executionInfo": {
     "elapsed": 346,
     "status": "ok",
     "timestamp": 1623867877863,
     "user": {
      "displayName": "Grigoriy Sokolov",
      "photoUrl": "https://lh3.googleusercontent.com/a-/AOh14Gj-ZBIgB1V3q5C_Es-ph_9_siNMENlYsnWqID71DTA=s64",
      "userId": "08935654732606601294"
     },
     "user_tz": -180
    },
    "id": "wXCZh0wb-lfW"
   },
   "outputs": [],
   "source": [
    "from sklearn.datasets import make_classification"
   ]
  },
  {
   "cell_type": "code",
   "execution_count": 26,
   "metadata": {
    "executionInfo": {
     "elapsed": 431,
     "status": "ok",
     "timestamp": 1623868010385,
     "user": {
      "displayName": "Grigoriy Sokolov",
      "photoUrl": "https://lh3.googleusercontent.com/a-/AOh14Gj-ZBIgB1V3q5C_Es-ph_9_siNMENlYsnWqID71DTA=s64",
      "userId": "08935654732606601294"
     },
     "user_tz": -180
    },
    "id": "pyf3l-qxEWws"
   },
   "outputs": [],
   "source": [
    "X, y  = make_classification(n_samples=10000, n_features = 2, n_redundant = 0, n_clusters_per_class=1,\n",
    "                            weights = [0.5], random_state = 1 )"
   ]
  },
  {
   "cell_type": "code",
   "execution_count": 29,
   "metadata": {
    "colab": {
     "base_uri": "https://localhost:8080/"
    },
    "executionInfo": {
     "elapsed": 318,
     "status": "ok",
     "timestamp": 1623868048943,
     "user": {
      "displayName": "Grigoriy Sokolov",
      "photoUrl": "https://lh3.googleusercontent.com/a-/AOh14Gj-ZBIgB1V3q5C_Es-ph_9_siNMENlYsnWqID71DTA=s64",
      "userId": "08935654732606601294"
     },
     "user_tz": -180
    },
    "id": "_InX24KfE3gK",
    "outputId": "76c84ba2-44c3-43b0-a222-ac5ef0e1f3af"
   },
   "outputs": [
    {
     "data": {
      "text/plain": [
       "array([0, 0, 1, 1, 0, 1, 1, 0, 0, 1])"
      ]
     },
     "execution_count": 29,
     "metadata": {
      "tags": []
     },
     "output_type": "execute_result"
    }
   ],
   "source": [
    "y[:10]"
   ]
  },
  {
   "cell_type": "markdown",
   "metadata": {
    "id": "E21KPics9h4-"
   },
   "source": [
    "##Supervised learning"
   ]
  },
  {
   "cell_type": "code",
   "execution_count": 30,
   "metadata": {
    "executionInfo": {
     "elapsed": 331,
     "status": "ok",
     "timestamp": 1623868564910,
     "user": {
      "displayName": "Grigoriy Sokolov",
      "photoUrl": "https://lh3.googleusercontent.com/a-/AOh14Gj-ZBIgB1V3q5C_Es-ph_9_siNMENlYsnWqID71DTA=s64",
      "userId": "08935654732606601294"
     },
     "user_tz": -180
    },
    "id": "HsepbHKN9lEB"
   },
   "outputs": [],
   "source": [
    "from sklearn import linear_model  #Регрессия"
   ]
  },
  {
   "cell_type": "code",
   "execution_count": null,
   "metadata": {
    "id": "YgdGzFBAG-hc"
   },
   "outputs": [],
   "source": [
    "linear_model."
   ]
  },
  {
   "cell_type": "code",
   "execution_count": 31,
   "metadata": {
    "executionInfo": {
     "elapsed": 363,
     "status": "ok",
     "timestamp": 1623868623345,
     "user": {
      "displayName": "Grigoriy Sokolov",
      "photoUrl": "https://lh3.googleusercontent.com/a-/AOh14Gj-ZBIgB1V3q5C_Es-ph_9_siNMENlYsnWqID71DTA=s64",
      "userId": "08935654732606601294"
     },
     "user_tz": -180
    },
    "id": "XzsejvaLHFW_"
   },
   "outputs": [],
   "source": [
    "from sklearn import svm #Классификация"
   ]
  },
  {
   "cell_type": "code",
   "execution_count": null,
   "metadata": {
    "id": "0FTALy6BHOtV"
   },
   "outputs": [],
   "source": [
    "svm."
   ]
  },
  {
   "cell_type": "markdown",
   "metadata": {
    "id": "1EHONMxc9lgU"
   },
   "source": [
    "##Unsupervised learning"
   ]
  },
  {
   "cell_type": "code",
   "execution_count": 32,
   "metadata": {
    "executionInfo": {
     "elapsed": 363,
     "status": "ok",
     "timestamp": 1623868741190,
     "user": {
      "displayName": "Grigoriy Sokolov",
      "photoUrl": "https://lh3.googleusercontent.com/a-/AOh14Gj-ZBIgB1V3q5C_Es-ph_9_siNMENlYsnWqID71DTA=s64",
      "userId": "08935654732606601294"
     },
     "user_tz": -180
    },
    "id": "TsmCxjsa9lvG"
   },
   "outputs": [],
   "source": [
    "from sklearn import cluster #кластеризация"
   ]
  },
  {
   "cell_type": "code",
   "execution_count": null,
   "metadata": {
    "id": "S9jXlYbYHpfH"
   },
   "outputs": [],
   "source": [
    "cluster."
   ]
  },
  {
   "cell_type": "code",
   "execution_count": 33,
   "metadata": {
    "executionInfo": {
     "elapsed": 360,
     "status": "ok",
     "timestamp": 1623868879903,
     "user": {
      "displayName": "Grigoriy Sokolov",
      "photoUrl": "https://lh3.googleusercontent.com/a-/AOh14Gj-ZBIgB1V3q5C_Es-ph_9_siNMENlYsnWqID71DTA=s64",
      "userId": "08935654732606601294"
     },
     "user_tz": -180
    },
    "id": "bpqIAazKHyea"
   },
   "outputs": [],
   "source": [
    "from sklearn.decomposition import PCA"
   ]
  },
  {
   "cell_type": "code",
   "execution_count": null,
   "metadata": {
    "id": "ME7BG1FNILgF"
   },
   "outputs": [],
   "source": [
    "PCA."
   ]
  },
  {
   "cell_type": "code",
   "execution_count": 34,
   "metadata": {
    "executionInfo": {
     "elapsed": 310,
     "status": "ok",
     "timestamp": 1623868989627,
     "user": {
      "displayName": "Grigoriy Sokolov",
      "photoUrl": "https://lh3.googleusercontent.com/a-/AOh14Gj-ZBIgB1V3q5C_Es-ph_9_siNMENlYsnWqID71DTA=s64",
      "userId": "08935654732606601294"
     },
     "user_tz": -180
    },
    "id": "ai8eSCzBIbuz"
   },
   "outputs": [],
   "source": [
    "from sklearn.decomposition import TruncatedSVD"
   ]
  },
  {
   "cell_type": "code",
   "execution_count": null,
   "metadata": {
    "id": "R2Ib1o80ImMX"
   },
   "outputs": [],
   "source": [
    "TruncatedSVD."
   ]
  }
 ],
 "metadata": {
  "colab": {
   "authorship_tag": "ABX9TyPo6EaAea2UpcG2FEOZy79f",
   "collapsed_sections": [],
   "name": "4.2 sklearn overview.ipynb",
   "provenance": []
  },
  "kernelspec": {
   "display_name": "Python 3 (ipykernel)",
   "language": "python",
   "name": "python3"
  },
  "language_info": {
   "codemirror_mode": {
    "name": "ipython",
    "version": 3
   },
   "file_extension": ".py",
   "mimetype": "text/x-python",
   "name": "python",
   "nbconvert_exporter": "python",
   "pygments_lexer": "ipython3",
   "version": "3.9.13"
  }
 },
 "nbformat": 4,
 "nbformat_minor": 1
}
