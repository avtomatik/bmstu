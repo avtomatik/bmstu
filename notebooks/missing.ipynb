{
 "cells": [
  {
   "cell_type": "code",
   "execution_count": null,
   "metadata": {},
   "outputs": [],
   "source": [
    "import numpy as np\n",
    "import pandas as pd\n",
    "from sklearn.impute import SimpleImputer"
   ]
  },
  {
   "cell_type": "markdown",
   "metadata": {},
   "source": [
    "## Заполнение пропусков в данных"
   ]
  },
  {
   "cell_type": "markdown",
   "metadata": {},
   "source": [
    "Генерация данных"
   ]
  },
  {
   "cell_type": "code",
   "execution_count": null,
   "metadata": {},
   "outputs": [],
   "source": [
    "train = [[1, 0, 0], \n",
    "         [np.nan, 3, 1], \n",
    "         [1, 3, 1], \n",
    "         [700, 6, 0]]"
   ]
  },
  {
   "cell_type": "markdown",
   "metadata": {},
   "source": [
    "Создание *инпутера* и его \"настройка\".\n",
    "\n",
    "В данном случае мы подаем imp данные, которые на которых он будет считать статистику для каждой переменной.  \n",
    "В данном примере в качестве статистики используется среднее значение."
   ]
  },
  {
   "cell_type": "code",
   "execution_count": null,
   "metadata": {},
   "outputs": [],
   "source": [
    "imp = SimpleImputer(missing_values=np.nan, strategy='mean')\n",
    "imp.fit(train)"
   ]
  },
  {
   "cell_type": "code",
   "execution_count": null,
   "metadata": {},
   "outputs": [],
   "source": [
    "print(imp.transform(train))"
   ]
  },
  {
   "cell_type": "markdown",
   "metadata": {},
   "source": [
    "Заполняем данные для X. \n",
    "\n",
    "Метод transform заполняет пропуски и возврашает заполненный лист.\n",
    "Данные, которые содержатся в X не используются для получение новых значений, в этом смысле они игнорируются."
   ]
  },
  {
   "cell_type": "code",
   "execution_count": null,
   "metadata": {},
   "outputs": [],
   "source": [
    "X = [[np.nan, 2, 1], \n",
    "     [100, np.nan, 1], \n",
    "     [1, 6, np.nan]]\n",
    "\n",
    "print(imp.transform(X))"
   ]
  },
  {
   "cell_type": "code",
   "execution_count": null,
   "metadata": {},
   "outputs": [],
   "source": [
    "print(imp.fit_transform(X))"
   ]
  },
  {
   "cell_type": "markdown",
   "metadata": {},
   "source": [
    "В качестве пропусков могут быть другие значения, например, 9999. "
   ]
  },
  {
   "cell_type": "code",
   "execution_count": null,
   "metadata": {},
   "outputs": [],
   "source": [
    "train = [[1, 0, 0], \n",
    "         [9999, 3, 1], \n",
    "         [9999, 3, 1], \n",
    "         [7, 6, 0]]\n",
    "\n",
    "imp = SimpleImputer(missing_values=9999, strategy='median')\n",
    "\n",
    "imp.fit(train)"
   ]
  },
  {
   "cell_type": "code",
   "execution_count": null,
   "metadata": {},
   "outputs": [],
   "source": [
    "X = [[9999, 2, 1], \n",
    "     [100, 9999, 1], \n",
    "     [1, 6, 9999]]\n",
    "print(imp.transform(X))"
   ]
  },
  {
   "cell_type": "markdown",
   "metadata": {},
   "source": [
    "Работа с категориями"
   ]
  },
  {
   "cell_type": "code",
   "execution_count": null,
   "metadata": {},
   "outputs": [],
   "source": [
    "train = pd.DataFrame([[\"ds1\", \"1\", \"1\"],\n",
    "                     [\"-1\", \"-1\", \"2\"],\n",
    "                     [\"ds2\", \"-1\", \"3\"],\n",
    "                     [\"ds2\", \"2\", \"-1\"]], dtype=\"category\")"
   ]
  },
  {
   "cell_type": "code",
   "execution_count": null,
   "metadata": {},
   "outputs": [],
   "source": [
    "imp = SimpleImputer(missing_values=\"-1\", strategy='most_frequent')\n",
    "imp.fit(train)\n",
    "X = pd.DataFrame([[\"3\", \"-1\", \"4\"], \n",
    "                 [\"-1\", \"3\", \"4\"]], dtype=\"category\")\n",
    "print(imp.transform(X))"
   ]
  },
  {
   "cell_type": "markdown",
   "metadata": {},
   "source": [
    "## Обработка временных рядов"
   ]
  },
  {
   "cell_type": "code",
   "execution_count": null,
   "metadata": {},
   "outputs": [],
   "source": [
    "import matplotlib.pyplot as plt"
   ]
  },
  {
   "cell_type": "markdown",
   "metadata": {},
   "source": [
    "Шум от 0 до 1"
   ]
  },
  {
   "cell_type": "code",
   "execution_count": null,
   "metadata": {},
   "outputs": [],
   "source": [
    "np.random.rand(100)"
   ]
  },
  {
   "cell_type": "markdown",
   "metadata": {},
   "source": [
    "Генерация временного ряда с сезонностью"
   ]
  },
  {
   "cell_type": "code",
   "execution_count": null,
   "metadata": {},
   "outputs": [],
   "source": [
    "x = np.linspace(0, 10, 100)\n",
    "y = np.sin(x) + np.random.rand(100)\n",
    "plt.plot(x, y)"
   ]
  },
  {
   "cell_type": "markdown",
   "metadata": {},
   "source": [
    "Создание пропусков"
   ]
  },
  {
   "cell_type": "code",
   "execution_count": null,
   "metadata": {},
   "outputs": [],
   "source": [
    "y[10:13] = np.nan\n",
    "df = pd.DataFrame({\"x\": x, \n",
    "                  \"y\": y})\n",
    "plt.plot(df[\"x\"], df[\"y\"])"
   ]
  },
  {
   "cell_type": "markdown",
   "metadata": {},
   "source": [
    "Использование наивного прогноза на основе значения до пропусков"
   ]
  },
  {
   "cell_type": "code",
   "execution_count": null,
   "metadata": {},
   "outputs": [],
   "source": [
    "df = pd.DataFrame({\"x\": x, \n",
    "                  \"y\": y})\n",
    "df = df.interpolate(method ='pad', limit_direction ='forward')\n",
    "plt.plot(df[\"x\"], df[\"y\"])"
   ]
  },
  {
   "cell_type": "markdown",
   "metadata": {},
   "source": [
    "Заполнение по ближайшему значению"
   ]
  },
  {
   "cell_type": "code",
   "execution_count": null,
   "metadata": {},
   "outputs": [],
   "source": [
    "y[10:20] = np.nan\n",
    "df = pd.DataFrame({\"x\": x,\n",
    "                  \"y\": y})\n",
    "df = df.interpolate(method ='nearest', limit_direction ='forward')\n",
    "plt.plot(df[\"x\"], df[\"y\"])"
   ]
  },
  {
   "cell_type": "markdown",
   "metadata": {},
   "source": [
    "Линейная интерполяция"
   ]
  },
  {
   "cell_type": "code",
   "execution_count": null,
   "metadata": {},
   "outputs": [],
   "source": [
    "df = pd.DataFrame({\"x\": x, \n",
    "                  \"y\": y})\n",
    "df = df.interpolate(method ='linear', limit_direction ='backward')\n",
    "plt.plot(df[\"x\"], df[\"y\"])"
   ]
  },
  {
   "cell_type": "code",
   "execution_count": null,
   "metadata": {},
   "outputs": [],
   "source": [
    "df = pd.DataFrame({\"x\": x, \n",
    "                  \"y\": y})\n",
    "df = df.interpolate(method ='linear', limit_direction ='forward')\n",
    "plt.plot(df[\"x\"], df[\"y\"])"
   ]
  },
  {
   "cell_type": "markdown",
   "metadata": {},
   "source": [
    "Разницы нет, так как пропуски не по краям"
   ]
  },
  {
   "cell_type": "markdown",
   "metadata": {},
   "source": [
    "Квадратичная интерполяция"
   ]
  },
  {
   "cell_type": "code",
   "execution_count": null,
   "metadata": {},
   "outputs": [],
   "source": [
    "df = pd.DataFrame({\"x\": x, \n",
    "                  \"y\": y})\n",
    "df = df.interpolate(method ='quadratic', limit_direction ='forward')\n",
    "plt.plot(df[\"x\"], df[\"y\"])"
   ]
  },
  {
   "cell_type": "code",
   "execution_count": null,
   "metadata": {},
   "outputs": [],
   "source": [
    "x = np.linspace(0, 10, 100)\n",
    "y = np.sin(x) + np.random.rand(100)\n",
    "\n",
    "y[10:20] = np.nan\n",
    "df = pd.DataFrame({\"x\": x, \n",
    "                  \"y\": y})\n",
    "df = df.interpolate(method ='quadratic', limit_direction ='forward')\n",
    "plt.plot(df[\"x\"], df[\"y\"])"
   ]
  },
  {
   "cell_type": "code",
   "execution_count": null,
   "metadata": {},
   "outputs": [],
   "source": [
    "x = np.linspace(0, 10, 100)\n",
    "y = np.sin(x) + np.random.rand(100)\n",
    "\n",
    "y[10:20] = np.nan\n",
    "df = pd.DataFrame({\"x\": x, \n",
    "                  \"y\": y})\n",
    "df = df.interpolate(method ='quadratic', limit_direction ='forward')\n",
    "plt.plot(df[\"x\"], df[\"y\"])"
   ]
  },
  {
   "cell_type": "code",
   "execution_count": null,
   "metadata": {},
   "outputs": [],
   "source": []
  },
  {
   "cell_type": "code",
   "execution_count": null,
   "metadata": {},
   "outputs": [],
   "source": []
  }
 ],
 "metadata": {
  "kernelspec": {
   "display_name": "Python 3 (ipykernel)",
   "language": "python",
   "name": "python3"
  },
  "language_info": {
   "codemirror_mode": {
    "name": "ipython",
    "version": 3
   },
   "file_extension": ".py",
   "mimetype": "text/x-python",
   "name": "python",
   "nbconvert_exporter": "python",
   "pygments_lexer": "ipython3",
   "version": "3.8.12"
  }
 },
 "nbformat": 4,
 "nbformat_minor": 4
}
