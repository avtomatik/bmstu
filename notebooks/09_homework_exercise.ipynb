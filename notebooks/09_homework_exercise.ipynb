{
 "cells": [
  {
   "cell_type": "markdown",
   "id": "a7e3d80f",
   "metadata": {},
   "source": [
    "1.      Загрузить датасет, подготовить датасет, выполнить исследование и отбор признаков. Обучить алгоритм Decision tree. Выполнить прогноз на проверочных данных. Снять метрики и ошибки модели. Написать выводы.\n",
    "Датасет: 13_credit_approve.rar\n",
    "Датасет содержит данные об одобрении или отказе в выдаче кредита клиентам.\n",
    "целевая переменная А16 - “+\\-”\n",
    "\n",
    "2.      Загрузить датасет, подготовить датасет, выполнить исследование и отбор признаков. Обучить алгоритм Random forest. Выполнить прогноз на проверочных данных. Выполнить прогноз на проверочных данных. Снять метрики и ошибки модели. Написать выводы.\n",
    "Датасет: 17_credit_card_fraud.csv\n",
    "данные о мошеннических операциях с кредитными картами. Целевая переменная fraud (“1/0”)"
   ]
  },
  {
   "cell_type": "code",
   "execution_count": null,
   "id": "e301c8cb",
   "metadata": {},
   "outputs": [],
   "source": []
  }
 ],
 "metadata": {
  "kernelspec": {
   "display_name": "Python 3 (ipykernel)",
   "language": "python",
   "name": "python3"
  },
  "language_info": {
   "codemirror_mode": {
    "name": "ipython",
    "version": 3
   },
   "file_extension": ".py",
   "mimetype": "text/x-python",
   "name": "python",
   "nbconvert_exporter": "python",
   "pygments_lexer": "ipython3",
   "version": "3.9.13"
  }
 },
 "nbformat": 4,
 "nbformat_minor": 5
}
