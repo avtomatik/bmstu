{
 "cells": [
  {
   "cell_type": "markdown",
   "id": "99f17f96",
   "metadata": {},
   "source": [
    "1.      Загрузить датасет, обучить модель, сохранить модель в формате pkl,\n",
    "вызвать промежуточные callbacks\n",
    "Датасет:21_heart_dis.csv\n",
    "данные о сердечно-сосудистых заболеваниях. Целевая переменная мульти классификации MCQ160B\n",
    "\n",
    "2.      Загрузить предобученную модель, создать программу, которая на вход принимает изображения, а на выходе даёт класс этого изображения\n",
    "Датасет: модель VGG19 по ссылке https://keras.io/api/applications/\n",
    "\n",
    "3.      Загрузить датасет, обучить модель, сохранить в формате save_model. Обучить вторую модель также сохранить её. Написать программу, которая будет проверять на входе цветное изображение или нет, и отправлять на распознавание в соответствующую версию.\n",
    "Датасет: from tensorflow.keras.datasets import mnist, cifar10"
   ]
  },
  {
   "cell_type": "code",
   "execution_count": null,
   "id": "0cd1c7a3",
   "metadata": {},
   "outputs": [],
   "source": []
  }
 ],
 "metadata": {
  "kernelspec": {
   "display_name": "Python 3 (ipykernel)",
   "language": "python",
   "name": "python3"
  },
  "language_info": {
   "codemirror_mode": {
    "name": "ipython",
    "version": 3
   },
   "file_extension": ".py",
   "mimetype": "text/x-python",
   "name": "python",
   "nbconvert_exporter": "python",
   "pygments_lexer": "ipython3",
   "version": "3.9.13"
  }
 },
 "nbformat": 4,
 "nbformat_minor": 5
}
