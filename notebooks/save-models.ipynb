{
 "cells": [
  {
   "cell_type": "markdown",
   "id": "d0a07968",
   "metadata": {},
   "source": [
    "# Импорт библиотек"
   ]
  },
  {
   "cell_type": "code",
   "execution_count": 1,
   "id": "6898e25c",
   "metadata": {},
   "outputs": [
    {
     "name": "stderr",
     "output_type": "stream",
     "text": [
      "2022-11-19 14:05:54.029259: I tensorflow/core/platform/cpu_feature_guard.cc:193] This TensorFlow binary is optimized with oneAPI Deep Neural Network Library (oneDNN) to use the following CPU instructions in performance-critical operations:  AVX2 FMA\n",
      "To enable them in other operations, rebuild TensorFlow with the appropriate compiler flags.\n",
      "2022-11-19 14:05:54.458858: W tensorflow/stream_executor/platform/default/dso_loader.cc:64] Could not load dynamic library 'libcudart.so.11.0'; dlerror: libcudart.so.11.0: cannot open shared object file: No such file or directory\n",
      "2022-11-19 14:05:54.458887: I tensorflow/stream_executor/cuda/cudart_stub.cc:29] Ignore above cudart dlerror if you do not have a GPU set up on your machine.\n",
      "2022-11-19 14:05:54.517433: E tensorflow/stream_executor/cuda/cuda_blas.cc:2981] Unable to register cuBLAS factory: Attempting to register factory for plugin cuBLAS when one has already been registered\n",
      "2022-11-19 14:05:55.722892: W tensorflow/stream_executor/platform/default/dso_loader.cc:64] Could not load dynamic library 'libnvinfer.so.7'; dlerror: libnvinfer.so.7: cannot open shared object file: No such file or directory\n",
      "2022-11-19 14:05:55.723059: W tensorflow/stream_executor/platform/default/dso_loader.cc:64] Could not load dynamic library 'libnvinfer_plugin.so.7'; dlerror: libnvinfer_plugin.so.7: cannot open shared object file: No such file or directory\n",
      "2022-11-19 14:05:55.723069: W tensorflow/compiler/tf2tensorrt/utils/py_utils.cc:38] TF-TRT Warning: Cannot dlopen some TensorRT libraries. If you would like to use Nvidia GPU with TensorRT, please make sure the missing libraries mentioned above are installed properly.\n"
     ]
    }
   ],
   "source": [
    "import numpy as np\n",
    "import tensorflow as tf\n",
    "\n",
    "from tensorflow import keras"
   ]
  },
  {
   "cell_type": "raw",
   "id": "3e77f20f",
   "metadata": {},
   "source": [
    "tf.keras"
   ]
  },
  {
   "cell_type": "markdown",
   "id": "6386abe3",
   "metadata": {},
   "source": [
    "Версии"
   ]
  },
  {
   "cell_type": "code",
   "execution_count": 2,
   "id": "97adb49f",
   "metadata": {},
   "outputs": [
    {
     "data": {
      "text/plain": [
       "'2.10.0'"
      ]
     },
     "execution_count": 2,
     "metadata": {},
     "output_type": "execute_result"
    }
   ],
   "source": [
    "tf.__version__"
   ]
  },
  {
   "cell_type": "code",
   "execution_count": 3,
   "id": "46070f52",
   "metadata": {},
   "outputs": [
    {
     "data": {
      "text/plain": [
       "'1.21.5'"
      ]
     },
     "execution_count": 3,
     "metadata": {},
     "output_type": "execute_result"
    }
   ],
   "source": [
    "np.__version__"
   ]
  },
  {
   "cell_type": "code",
   "execution_count": 4,
   "id": "efb01da0",
   "metadata": {},
   "outputs": [
    {
     "data": {
      "text/plain": [
       "'3.9.13 (main, Aug 25 2022, 23:26:10) \\n[GCC 11.2.0]'"
      ]
     },
     "execution_count": 4,
     "metadata": {},
     "output_type": "execute_result"
    }
   ],
   "source": [
    "import sys\n",
    "sys.version"
   ]
  },
  {
   "cell_type": "code",
   "execution_count": 5,
   "id": "4788bca3",
   "metadata": {},
   "outputs": [],
   "source": [
    "!pip freeze > requirements.txt"
   ]
  },
  {
   "cell_type": "markdown",
   "id": "c423d529",
   "metadata": {},
   "source": [
    "---"
   ]
  },
  {
   "cell_type": "markdown",
   "id": "816e0711",
   "metadata": {},
   "source": [
    "# Сохранение базовой модели"
   ]
  },
  {
   "cell_type": "markdown",
   "id": "2cd0e8e6",
   "metadata": {},
   "source": [
    "Пример модели"
   ]
  },
  {
   "cell_type": "code",
   "execution_count": 6,
   "id": "3c095da0",
   "metadata": {},
   "outputs": [],
   "source": [
    "def get_model():\n",
    "    inputs = keras.Input(shape=(32,))\n",
    "    outputs = keras.layers.Dense(1)(inputs)\n",
    "    \n",
    "    model = keras.Model(inputs, outputs)\n",
    "    \n",
    "    model.compile(optimizer=\"adam\", loss=\"mean_squared_error\")\n",
    "    \n",
    "    return model"
   ]
  },
  {
   "cell_type": "code",
   "execution_count": 7,
   "id": "833e3b3c",
   "metadata": {},
   "outputs": [
    {
     "name": "stderr",
     "output_type": "stream",
     "text": [
      "2022-11-19 14:05:58.881699: W tensorflow/stream_executor/platform/default/dso_loader.cc:64] Could not load dynamic library 'libcuda.so.1'; dlerror: libcuda.so.1: cannot open shared object file: No such file or directory\n",
      "2022-11-19 14:05:58.882071: W tensorflow/stream_executor/cuda/cuda_driver.cc:263] failed call to cuInit: UNKNOWN ERROR (303)\n",
      "2022-11-19 14:05:58.882102: I tensorflow/stream_executor/cuda/cuda_diagnostics.cc:156] kernel driver does not appear to be running on this host (green-machine): /proc/driver/nvidia/version does not exist\n",
      "2022-11-19 14:05:58.882487: I tensorflow/core/platform/cpu_feature_guard.cc:193] This TensorFlow binary is optimized with oneAPI Deep Neural Network Library (oneDNN) to use the following CPU instructions in performance-critical operations:  AVX2 FMA\n",
      "To enable them in other operations, rebuild TensorFlow with the appropriate compiler flags.\n"
     ]
    }
   ],
   "source": [
    "model = get_model()"
   ]
  },
  {
   "cell_type": "code",
   "execution_count": 8,
   "id": "f706acb0",
   "metadata": {},
   "outputs": [
    {
     "name": "stdout",
     "output_type": "stream",
     "text": [
      "Model: \"model\"\n",
      "_________________________________________________________________\n",
      " Layer (type)                Output Shape              Param #   \n",
      "=================================================================\n",
      " input_1 (InputLayer)        [(None, 32)]              0         \n",
      "                                                                 \n",
      " dense (Dense)               (None, 1)                 33        \n",
      "                                                                 \n",
      "=================================================================\n",
      "Total params: 33\n",
      "Trainable params: 33\n",
      "Non-trainable params: 0\n",
      "_________________________________________________________________\n"
     ]
    }
   ],
   "source": [
    "model.summary()"
   ]
  },
  {
   "cell_type": "code",
   "execution_count": 9,
   "id": "7c1eb353",
   "metadata": {},
   "outputs": [],
   "source": [
    "# Имитация набора данных\n",
    "tmp_input = np.random.random((2048, 32))\n",
    "tmp_target = np.random.random((2048, 1))"
   ]
  },
  {
   "cell_type": "code",
   "execution_count": 10,
   "id": "c11a15fc",
   "metadata": {},
   "outputs": [
    {
     "data": {
      "text/plain": [
       "(2048, 32)"
      ]
     },
     "execution_count": 10,
     "metadata": {},
     "output_type": "execute_result"
    }
   ],
   "source": [
    "tmp_input.shape"
   ]
  },
  {
   "cell_type": "code",
   "execution_count": 11,
   "id": "6491db2e",
   "metadata": {},
   "outputs": [
    {
     "data": {
      "text/plain": [
       "array([[0.4479346 , 0.32582044, 0.54573569, ..., 0.8164524 , 0.3538102 ,\n",
       "        0.42984364],\n",
       "       [0.98287474, 0.67490091, 0.29134048, ..., 0.99890764, 0.59388311,\n",
       "        0.3159161 ],\n",
       "       [0.52626391, 0.04834321, 0.70220231, ..., 0.50853486, 0.17543291,\n",
       "        0.6005606 ],\n",
       "       ...,\n",
       "       [0.45382779, 0.79830475, 0.86826643, ..., 0.43458965, 0.32468692,\n",
       "        0.24512588],\n",
       "       [0.69771165, 0.22496302, 0.44781316, ..., 0.21229056, 0.83626147,\n",
       "        0.67498479],\n",
       "       [0.88313863, 0.08997584, 0.13466455, ..., 0.22277941, 0.19716858,\n",
       "        0.90364376]])"
      ]
     },
     "execution_count": 11,
     "metadata": {},
     "output_type": "execute_result"
    }
   ],
   "source": [
    "tmp_input"
   ]
  },
  {
   "cell_type": "code",
   "execution_count": 12,
   "id": "e81039e7",
   "metadata": {},
   "outputs": [],
   "source": [
    "?model.fit"
   ]
  },
  {
   "cell_type": "code",
   "execution_count": 13,
   "id": "65656bf2",
   "metadata": {},
   "outputs": [
    {
     "name": "stdout",
     "output_type": "stream",
     "text": [
      "Epoch 1/10\n",
      "64/64 [==============================] - 0s 1ms/step - loss: 0.7664\n",
      "Epoch 2/10\n",
      "64/64 [==============================] - 0s 2ms/step - loss: 0.2386\n",
      "Epoch 3/10\n",
      "64/64 [==============================] - 0s 2ms/step - loss: 0.2152\n",
      "Epoch 4/10\n",
      "64/64 [==============================] - 0s 1ms/step - loss: 0.2089\n",
      "Epoch 5/10\n",
      "64/64 [==============================] - 0s 2ms/step - loss: 0.2018\n",
      "Epoch 6/10\n",
      "64/64 [==============================] - 0s 1ms/step - loss: 0.1945\n",
      "Epoch 7/10\n",
      "64/64 [==============================] - 0s 2ms/step - loss: 0.1870\n",
      "Epoch 8/10\n",
      "64/64 [==============================] - 0s 2ms/step - loss: 0.1792\n",
      "Epoch 9/10\n",
      "64/64 [==============================] - 0s 2ms/step - loss: 0.1716\n",
      "Epoch 10/10\n",
      "64/64 [==============================] - 0s 2ms/step - loss: 0.1643\n"
     ]
    },
    {
     "data": {
      "text/plain": [
       "<keras.callbacks.History at 0x7ff618a25580>"
      ]
     },
     "execution_count": 13,
     "metadata": {},
     "output_type": "execute_result"
    }
   ],
   "source": [
    "model.fit(tmp_input, tmp_target, epochs=10)"
   ]
  },
  {
   "cell_type": "code",
   "execution_count": 14,
   "id": "eb66e332",
   "metadata": {},
   "outputs": [
    {
     "name": "stdout",
     "output_type": "stream",
     "text": [
      "Epoch 1/10\n",
      "64/64 [==============================] - 0s 2ms/step - loss: 0.1569\n",
      "Epoch 2/10\n",
      "64/64 [==============================] - 0s 2ms/step - loss: 0.1502\n",
      "Epoch 3/10\n",
      "64/64 [==============================] - 0s 1ms/step - loss: 0.1437\n",
      "Epoch 4/10\n",
      "64/64 [==============================] - 0s 2ms/step - loss: 0.1376\n",
      "Epoch 5/10\n",
      "64/64 [==============================] - 0s 2ms/step - loss: 0.1318\n",
      "Epoch 6/10\n",
      "64/64 [==============================] - 0s 2ms/step - loss: 0.1264\n",
      "Epoch 7/10\n",
      "64/64 [==============================] - 0s 2ms/step - loss: 0.1220\n",
      "Epoch 8/10\n",
      "64/64 [==============================] - 0s 2ms/step - loss: 0.1174\n",
      "Epoch 9/10\n",
      "64/64 [==============================] - 0s 2ms/step - loss: 0.1132\n",
      "Epoch 10/10\n",
      "64/64 [==============================] - 0s 2ms/step - loss: 0.1096\n"
     ]
    },
    {
     "data": {
      "text/plain": [
       "<keras.callbacks.History at 0x7ff5a84a3b80>"
      ]
     },
     "execution_count": 14,
     "metadata": {},
     "output_type": "execute_result"
    }
   ],
   "source": [
    "model.fit(tmp_input, tmp_target, epochs=10)"
   ]
  },
  {
   "cell_type": "markdown",
   "id": "f20df27b",
   "metadata": {},
   "source": [
    "Сохранение"
   ]
  },
  {
   "cell_type": "code",
   "execution_count": 15,
   "id": "05fc8420",
   "metadata": {},
   "outputs": [],
   "source": [
    "model_path = \"my_model_1\""
   ]
  },
  {
   "cell_type": "code",
   "execution_count": 16,
   "id": "fbc2ebe9",
   "metadata": {},
   "outputs": [
    {
     "name": "stdout",
     "output_type": "stream",
     "text": [
      "INFO:tensorflow:Assets written to: my_model_1/assets\n"
     ]
    }
   ],
   "source": [
    "model.save(model_path)"
   ]
  },
  {
   "cell_type": "markdown",
   "id": "1dda1f4a",
   "metadata": {},
   "source": [
    "Загрузка модели"
   ]
  },
  {
   "cell_type": "code",
   "execution_count": 17,
   "id": "6ef69142",
   "metadata": {},
   "outputs": [],
   "source": [
    "reconstructed_model = keras.models.load_model(model_path)"
   ]
  },
  {
   "cell_type": "code",
   "execution_count": 18,
   "id": "49331f8a",
   "metadata": {},
   "outputs": [
    {
     "name": "stdout",
     "output_type": "stream",
     "text": [
      "Model: \"model\"\n",
      "_________________________________________________________________\n",
      " Layer (type)                Output Shape              Param #   \n",
      "=================================================================\n",
      " input_1 (InputLayer)        [(None, 32)]              0         \n",
      "                                                                 \n",
      " dense (Dense)               (None, 1)                 33        \n",
      "                                                                 \n",
      "=================================================================\n",
      "Total params: 33\n",
      "Trainable params: 33\n",
      "Non-trainable params: 0\n",
      "_________________________________________________________________\n"
     ]
    }
   ],
   "source": [
    "reconstructed_model.summary()"
   ]
  },
  {
   "cell_type": "code",
   "execution_count": 19,
   "id": "174984b2",
   "metadata": {},
   "outputs": [
    {
     "name": "stdout",
     "output_type": "stream",
     "text": [
      "Model: \"model\"\n",
      "_________________________________________________________________\n",
      " Layer (type)                Output Shape              Param #   \n",
      "=================================================================\n",
      " input_1 (InputLayer)        [(None, 32)]              0         \n",
      "                                                                 \n",
      " dense (Dense)               (None, 1)                 33        \n",
      "                                                                 \n",
      "=================================================================\n",
      "Total params: 33\n",
      "Trainable params: 33\n",
      "Non-trainable params: 0\n",
      "_________________________________________________________________\n"
     ]
    }
   ],
   "source": [
    "model.summary()"
   ]
  },
  {
   "cell_type": "code",
   "execution_count": 20,
   "id": "ec7c56dd",
   "metadata": {},
   "outputs": [
    {
     "data": {
      "text/plain": [
       "False"
      ]
     },
     "execution_count": 20,
     "metadata": {},
     "output_type": "execute_result"
    }
   ],
   "source": [
    "reconstructed_model == model"
   ]
  },
  {
   "cell_type": "code",
   "execution_count": 21,
   "id": "c673e4fc",
   "metadata": {},
   "outputs": [
    {
     "data": {
      "text/plain": [
       "<keras.engine.functional.Functional at 0x7ff5ab7abf70>"
      ]
     },
     "execution_count": 21,
     "metadata": {},
     "output_type": "execute_result"
    }
   ],
   "source": [
    "reconstructed_model"
   ]
  },
  {
   "cell_type": "code",
   "execution_count": 22,
   "id": "dce03447",
   "metadata": {},
   "outputs": [
    {
     "data": {
      "text/plain": [
       "<keras.engine.functional.Functional at 0x7ff5ac0030a0>"
      ]
     },
     "execution_count": 22,
     "metadata": {},
     "output_type": "execute_result"
    }
   ],
   "source": [
    "model"
   ]
  },
  {
   "cell_type": "code",
   "execution_count": 23,
   "id": "7a66fd69",
   "metadata": {},
   "outputs": [
    {
     "name": "stdout",
     "output_type": "stream",
     "text": [
      "Model: \"model\"\n",
      "_________________________________________________________________\n",
      " Layer (type)                Output Shape              Param #   \n",
      "=================================================================\n",
      " input_1 (InputLayer)        [(None, 32)]              0         \n",
      "                                                                 \n",
      " dense (Dense)               (None, 1)                 33        \n",
      "                                                                 \n",
      "=================================================================\n",
      "Total params: 33\n",
      "Trainable params: 33\n",
      "Non-trainable params: 0\n",
      "_________________________________________________________________\n"
     ]
    }
   ],
   "source": [
    "reconstructed_model_2 = keras.models.load_model(model_path)\n",
    "reconstructed_model_2.summary()"
   ]
  },
  {
   "cell_type": "code",
   "execution_count": null,
   "id": "8d13454d",
   "metadata": {},
   "outputs": [],
   "source": []
  },
  {
   "cell_type": "markdown",
   "id": "032f0716",
   "metadata": {},
   "source": [
    "Сравнение моделей"
   ]
  },
  {
   "cell_type": "code",
   "execution_count": 24,
   "id": "363ad754",
   "metadata": {},
   "outputs": [],
   "source": [
    "?np.testing.assert_allclose"
   ]
  },
  {
   "cell_type": "code",
   "execution_count": 25,
   "id": "d8a5e0ed",
   "metadata": {},
   "outputs": [
    {
     "name": "stdout",
     "output_type": "stream",
     "text": [
      "Help on function assert_allclose in module numpy.testing._private.utils:\n",
      "\n",
      "assert_allclose(actual, desired, rtol=1e-07, atol=0, equal_nan=True, err_msg='', verbose=True)\n",
      "    Raises an AssertionError if two objects are not equal up to desired\n",
      "    tolerance.\n",
      "    \n",
      "    The test is equivalent to ``allclose(actual, desired, rtol, atol)`` (note\n",
      "    that ``allclose`` has different default values). It compares the difference\n",
      "    between `actual` and `desired` to ``atol + rtol * abs(desired)``.\n",
      "    \n",
      "    .. versionadded:: 1.5.0\n",
      "    \n",
      "    Parameters\n",
      "    ----------\n",
      "    actual : array_like\n",
      "        Array obtained.\n",
      "    desired : array_like\n",
      "        Array desired.\n",
      "    rtol : float, optional\n",
      "        Relative tolerance.\n",
      "    atol : float, optional\n",
      "        Absolute tolerance.\n",
      "    equal_nan : bool, optional.\n",
      "        If True, NaNs will compare equal.\n",
      "    err_msg : str, optional\n",
      "        The error message to be printed in case of failure.\n",
      "    verbose : bool, optional\n",
      "        If True, the conflicting values are appended to the error message.\n",
      "    \n",
      "    Raises\n",
      "    ------\n",
      "    AssertionError\n",
      "        If actual and desired are not equal up to specified precision.\n",
      "    \n",
      "    See Also\n",
      "    --------\n",
      "    assert_array_almost_equal_nulp, assert_array_max_ulp\n",
      "    \n",
      "    Examples\n",
      "    --------\n",
      "    >>> x = [1e-5, 1e-3, 1e-1]\n",
      "    >>> y = np.arccos(np.cos(x))\n",
      "    >>> np.testing.assert_allclose(x, y, rtol=1e-5, atol=0)\n",
      "\n"
     ]
    }
   ],
   "source": [
    "help(np.testing.assert_allclose)"
   ]
  },
  {
   "cell_type": "code",
   "execution_count": 26,
   "id": "8c2df551",
   "metadata": {},
   "outputs": [
    {
     "name": "stdout",
     "output_type": "stream",
     "text": [
      "64/64 [==============================] - 0s 1ms/step\n",
      "64/64 [==============================] - 0s 1ms/step\n"
     ]
    }
   ],
   "source": [
    "np.testing.assert_allclose(model.predict(tmp_input), \n",
    "                           reconstructed_model.predict(tmp_input), \n",
    "                           rtol=0.0000001)"
   ]
  },
  {
   "cell_type": "code",
   "execution_count": 27,
   "id": "fb23dd41",
   "metadata": {},
   "outputs": [
    {
     "name": "stdout",
     "output_type": "stream",
     "text": [
      "64/64 [==============================] - 0s 979us/step\n"
     ]
    },
    {
     "ename": "AssertionError",
     "evalue": "\nNot equal to tolerance rtol=1e-07, atol=0\n\nMismatched elements: 2048 / 2048 (100%)\nMax absolute difference: 0.93183841\nMax relative difference: 4498.87367386\n x: array([[0.462603],\n       [0.252029],\n       [0.682632],...\n y: array([[0.206765],\n       [0.591407],\n       [0.061624],...",
     "output_type": "error",
     "traceback": [
      "\u001b[0;31m---------------------------------------------------------------------------\u001b[0m",
      "\u001b[0;31mAssertionError\u001b[0m                            Traceback (most recent call last)",
      "\u001b[0;32m/tmp/ipykernel_88067/3168262023.py\u001b[0m in \u001b[0;36m<module>\u001b[0;34m\u001b[0m\n\u001b[0;32m----> 1\u001b[0;31m np.testing.assert_allclose(model.predict(tmp_input), \n\u001b[0m\u001b[1;32m      2\u001b[0m                            tmp_target)\n",
      "    \u001b[0;31m[... skipping hidden 1 frame]\u001b[0m\n",
      "\u001b[0;32m~/anaconda3/lib/python3.9/site-packages/numpy/testing/_private/utils.py\u001b[0m in \u001b[0;36massert_array_compare\u001b[0;34m(comparison, x, y, err_msg, verbose, header, precision, equal_nan, equal_inf)\u001b[0m\n\u001b[1;32m    842\u001b[0m                                 \u001b[0mverbose\u001b[0m\u001b[0;34m=\u001b[0m\u001b[0mverbose\u001b[0m\u001b[0;34m,\u001b[0m \u001b[0mheader\u001b[0m\u001b[0;34m=\u001b[0m\u001b[0mheader\u001b[0m\u001b[0;34m,\u001b[0m\u001b[0;34m\u001b[0m\u001b[0;34m\u001b[0m\u001b[0m\n\u001b[1;32m    843\u001b[0m                                 names=('x', 'y'), precision=precision)\n\u001b[0;32m--> 844\u001b[0;31m             \u001b[0;32mraise\u001b[0m \u001b[0mAssertionError\u001b[0m\u001b[0;34m(\u001b[0m\u001b[0mmsg\u001b[0m\u001b[0;34m)\u001b[0m\u001b[0;34m\u001b[0m\u001b[0;34m\u001b[0m\u001b[0m\n\u001b[0m\u001b[1;32m    845\u001b[0m     \u001b[0;32mexcept\u001b[0m \u001b[0mValueError\u001b[0m\u001b[0;34m:\u001b[0m\u001b[0;34m\u001b[0m\u001b[0;34m\u001b[0m\u001b[0m\n\u001b[1;32m    846\u001b[0m         \u001b[0;32mimport\u001b[0m \u001b[0mtraceback\u001b[0m\u001b[0;34m\u001b[0m\u001b[0;34m\u001b[0m\u001b[0m\n",
      "\u001b[0;31mAssertionError\u001b[0m: \nNot equal to tolerance rtol=1e-07, atol=0\n\nMismatched elements: 2048 / 2048 (100%)\nMax absolute difference: 0.93183841\nMax relative difference: 4498.87367386\n x: array([[0.462603],\n       [0.252029],\n       [0.682632],...\n y: array([[0.206765],\n       [0.591407],\n       [0.061624],..."
     ]
    }
   ],
   "source": [
    "np.testing.assert_allclose(model.predict(tmp_input), \n",
    "                           tmp_target)"
   ]
  },
  {
   "cell_type": "code",
   "execution_count": 28,
   "id": "8e5451c8",
   "metadata": {},
   "outputs": [
    {
     "ename": "AssertionError",
     "evalue": "\nNot equal to tolerance rtol=1e-07, atol=0\n\nMismatched elements: 2 / 3 (66.7%)\nMax absolute difference: 20\nMax relative difference: 0.90909091\n x: array([1, 2, 3])\n y: array([ 1, 22, 22])",
     "output_type": "error",
     "traceback": [
      "\u001b[0;31m---------------------------------------------------------------------------\u001b[0m",
      "\u001b[0;31mAssertionError\u001b[0m                            Traceback (most recent call last)",
      "\u001b[0;32m/tmp/ipykernel_88067/2338041721.py\u001b[0m in \u001b[0;36m<module>\u001b[0;34m\u001b[0m\n\u001b[0;32m----> 1\u001b[0;31m \u001b[0mnp\u001b[0m\u001b[0;34m.\u001b[0m\u001b[0mtesting\u001b[0m\u001b[0;34m.\u001b[0m\u001b[0massert_allclose\u001b[0m\u001b[0;34m(\u001b[0m\u001b[0;34m[\u001b[0m\u001b[0;36m1\u001b[0m\u001b[0;34m,\u001b[0m \u001b[0;36m2\u001b[0m\u001b[0;34m,\u001b[0m \u001b[0;36m3\u001b[0m\u001b[0;34m]\u001b[0m\u001b[0;34m,\u001b[0m \u001b[0;34m[\u001b[0m\u001b[0;36m1\u001b[0m\u001b[0;34m,\u001b[0m \u001b[0;36m22\u001b[0m\u001b[0;34m,\u001b[0m \u001b[0;36m22\u001b[0m\u001b[0;34m]\u001b[0m\u001b[0;34m)\u001b[0m\u001b[0;34m\u001b[0m\u001b[0;34m\u001b[0m\u001b[0m\n\u001b[0m",
      "    \u001b[0;31m[... skipping hidden 1 frame]\u001b[0m\n",
      "\u001b[0;32m~/anaconda3/lib/python3.9/site-packages/numpy/testing/_private/utils.py\u001b[0m in \u001b[0;36massert_array_compare\u001b[0;34m(comparison, x, y, err_msg, verbose, header, precision, equal_nan, equal_inf)\u001b[0m\n\u001b[1;32m    842\u001b[0m                                 \u001b[0mverbose\u001b[0m\u001b[0;34m=\u001b[0m\u001b[0mverbose\u001b[0m\u001b[0;34m,\u001b[0m \u001b[0mheader\u001b[0m\u001b[0;34m=\u001b[0m\u001b[0mheader\u001b[0m\u001b[0;34m,\u001b[0m\u001b[0;34m\u001b[0m\u001b[0;34m\u001b[0m\u001b[0m\n\u001b[1;32m    843\u001b[0m                                 names=('x', 'y'), precision=precision)\n\u001b[0;32m--> 844\u001b[0;31m             \u001b[0;32mraise\u001b[0m \u001b[0mAssertionError\u001b[0m\u001b[0;34m(\u001b[0m\u001b[0mmsg\u001b[0m\u001b[0;34m)\u001b[0m\u001b[0;34m\u001b[0m\u001b[0;34m\u001b[0m\u001b[0m\n\u001b[0m\u001b[1;32m    845\u001b[0m     \u001b[0;32mexcept\u001b[0m \u001b[0mValueError\u001b[0m\u001b[0;34m:\u001b[0m\u001b[0;34m\u001b[0m\u001b[0;34m\u001b[0m\u001b[0m\n\u001b[1;32m    846\u001b[0m         \u001b[0;32mimport\u001b[0m \u001b[0mtraceback\u001b[0m\u001b[0;34m\u001b[0m\u001b[0;34m\u001b[0m\u001b[0m\n",
      "\u001b[0;31mAssertionError\u001b[0m: \nNot equal to tolerance rtol=1e-07, atol=0\n\nMismatched elements: 2 / 3 (66.7%)\nMax absolute difference: 20\nMax relative difference: 0.90909091\n x: array([1, 2, 3])\n y: array([ 1, 22, 22])"
     ]
    }
   ],
   "source": [
    "np.testing.assert_allclose([1, 2, 3], [1, 22, 22])"
   ]
  },
  {
   "cell_type": "code",
   "execution_count": 29,
   "id": "1b93b6ad",
   "metadata": {},
   "outputs": [
    {
     "data": {
      "text/plain": [
       "True"
      ]
     },
     "execution_count": 29,
     "metadata": {},
     "output_type": "execute_result"
    }
   ],
   "source": [
    "0.4000000000000000000004 == 0.39999999999999999999"
   ]
  },
  {
   "cell_type": "code",
   "execution_count": 30,
   "id": "3f631c55",
   "metadata": {},
   "outputs": [
    {
     "data": {
      "text/plain": [
       "False"
      ]
     },
     "execution_count": 30,
     "metadata": {},
     "output_type": "execute_result"
    }
   ],
   "source": [
    "0.4000000000000000000 == 0.39999999999999000"
   ]
  },
  {
   "cell_type": "code",
   "execution_count": 31,
   "id": "2be1dd27",
   "metadata": {},
   "outputs": [
    {
     "data": {
      "text/plain": [
       "False"
      ]
     },
     "execution_count": 31,
     "metadata": {},
     "output_type": "execute_result"
    }
   ],
   "source": [
    "model == reconstructed_model"
   ]
  },
  {
   "cell_type": "code",
   "execution_count": 32,
   "id": "3261a844",
   "metadata": {},
   "outputs": [
    {
     "data": {
      "text/plain": [
       "<keras.engine.functional.Functional at 0x7ff5ac0030a0>"
      ]
     },
     "execution_count": 32,
     "metadata": {},
     "output_type": "execute_result"
    }
   ],
   "source": [
    "model"
   ]
  },
  {
   "cell_type": "code",
   "execution_count": 33,
   "id": "9c78252b",
   "metadata": {},
   "outputs": [
    {
     "data": {
      "text/plain": [
       "<keras.engine.functional.Functional at 0x7ff5ab7abf70>"
      ]
     },
     "execution_count": 33,
     "metadata": {},
     "output_type": "execute_result"
    }
   ],
   "source": [
    "reconstructed_model"
   ]
  },
  {
   "cell_type": "markdown",
   "id": "df67b438",
   "metadata": {},
   "source": [
    "Продолжение обучения"
   ]
  },
  {
   "cell_type": "code",
   "execution_count": 34,
   "id": "79026bc5",
   "metadata": {},
   "outputs": [
    {
     "name": "stdout",
     "output_type": "stream",
     "text": [
      "Epoch 1/20\n",
      "64/64 [==============================] - 0s 1ms/step - loss: 0.1050\n",
      "Epoch 2/20\n",
      "64/64 [==============================] - 0s 2ms/step - loss: 0.0996\n",
      "Epoch 3/20\n",
      "64/64 [==============================] - 0s 2ms/step - loss: 0.0953\n",
      "Epoch 4/20\n",
      "64/64 [==============================] - 0s 2ms/step - loss: 0.0931\n",
      "Epoch 5/20\n",
      "64/64 [==============================] - 0s 2ms/step - loss: 0.0908\n",
      "Epoch 6/20\n",
      "64/64 [==============================] - 0s 2ms/step - loss: 0.0892\n",
      "Epoch 7/20\n",
      "64/64 [==============================] - 0s 2ms/step - loss: 0.0883\n",
      "Epoch 8/20\n",
      "64/64 [==============================] - 0s 2ms/step - loss: 0.0876\n",
      "Epoch 9/20\n",
      "64/64 [==============================] - 0s 2ms/step - loss: 0.0866\n",
      "Epoch 10/20\n",
      "64/64 [==============================] - 0s 2ms/step - loss: 0.0876\n",
      "Epoch 11/20\n",
      "64/64 [==============================] - 0s 2ms/step - loss: 0.0866\n",
      "Epoch 12/20\n",
      "64/64 [==============================] - 0s 2ms/step - loss: 0.0859\n",
      "Epoch 13/20\n",
      "64/64 [==============================] - 0s 2ms/step - loss: 0.0855\n",
      "Epoch 14/20\n",
      "64/64 [==============================] - 0s 3ms/step - loss: 0.0853\n",
      "Epoch 15/20\n",
      "64/64 [==============================] - 0s 2ms/step - loss: 0.0853\n",
      "Epoch 16/20\n",
      "64/64 [==============================] - 0s 2ms/step - loss: 0.0850\n",
      "Epoch 17/20\n",
      "64/64 [==============================] - 0s 2ms/step - loss: 0.0850\n",
      "Epoch 18/20\n",
      "64/64 [==============================] - 0s 1ms/step - loss: 0.0848\n",
      "Epoch 19/20\n",
      "64/64 [==============================] - 0s 3ms/step - loss: 0.0849\n",
      "Epoch 20/20\n",
      "64/64 [==============================] - 0s 2ms/step - loss: 0.0849\n"
     ]
    },
    {
     "data": {
      "text/plain": [
       "<keras.callbacks.History at 0x7ff5a86f4700>"
      ]
     },
     "execution_count": 34,
     "metadata": {},
     "output_type": "execute_result"
    }
   ],
   "source": [
    "reconstructed_model.fit(tmp_input, tmp_target, epochs=20)"
   ]
  },
  {
   "cell_type": "code",
   "execution_count": null,
   "id": "3a129690",
   "metadata": {},
   "outputs": [],
   "source": []
  },
  {
   "cell_type": "code",
   "execution_count": 35,
   "id": "2bec0c18",
   "metadata": {},
   "outputs": [
    {
     "name": "stdout",
     "output_type": "stream",
     "text": [
      "64/64 [==============================] - 0s 1ms/step\n",
      "64/64 [==============================] - 0s 2ms/step\n"
     ]
    },
    {
     "ename": "AssertionError",
     "evalue": "\nNot equal to tolerance rtol=1e-07, atol=0\n\nMismatched elements: 2048 / 2048 (100%)\nMax absolute difference: 0.5367092\nMax relative difference: 1.2326549\n x: array([[0.462603],\n       [0.252029],\n       [0.682632],...\n y: array([[0.465155],\n       [0.545691],\n       [0.490807],...",
     "output_type": "error",
     "traceback": [
      "\u001b[0;31m---------------------------------------------------------------------------\u001b[0m",
      "\u001b[0;31mAssertionError\u001b[0m                            Traceback (most recent call last)",
      "\u001b[0;32m/tmp/ipykernel_88067/2828066513.py\u001b[0m in \u001b[0;36m<module>\u001b[0;34m\u001b[0m\n\u001b[0;32m----> 1\u001b[0;31m np.testing.assert_allclose(model.predict(tmp_input), \n\u001b[0m\u001b[1;32m      2\u001b[0m                            \u001b[0mreconstructed_model\u001b[0m\u001b[0;34m.\u001b[0m\u001b[0mpredict\u001b[0m\u001b[0;34m(\u001b[0m\u001b[0mtmp_input\u001b[0m\u001b[0;34m)\u001b[0m\u001b[0;34m,\u001b[0m\u001b[0;34m\u001b[0m\u001b[0;34m\u001b[0m\u001b[0m\n\u001b[1;32m      3\u001b[0m                            rtol=0.0000001)\n",
      "    \u001b[0;31m[... skipping hidden 1 frame]\u001b[0m\n",
      "\u001b[0;32m~/anaconda3/lib/python3.9/site-packages/numpy/testing/_private/utils.py\u001b[0m in \u001b[0;36massert_array_compare\u001b[0;34m(comparison, x, y, err_msg, verbose, header, precision, equal_nan, equal_inf)\u001b[0m\n\u001b[1;32m    842\u001b[0m                                 \u001b[0mverbose\u001b[0m\u001b[0;34m=\u001b[0m\u001b[0mverbose\u001b[0m\u001b[0;34m,\u001b[0m \u001b[0mheader\u001b[0m\u001b[0;34m=\u001b[0m\u001b[0mheader\u001b[0m\u001b[0;34m,\u001b[0m\u001b[0;34m\u001b[0m\u001b[0;34m\u001b[0m\u001b[0m\n\u001b[1;32m    843\u001b[0m                                 names=('x', 'y'), precision=precision)\n\u001b[0;32m--> 844\u001b[0;31m             \u001b[0;32mraise\u001b[0m \u001b[0mAssertionError\u001b[0m\u001b[0;34m(\u001b[0m\u001b[0mmsg\u001b[0m\u001b[0;34m)\u001b[0m\u001b[0;34m\u001b[0m\u001b[0;34m\u001b[0m\u001b[0m\n\u001b[0m\u001b[1;32m    845\u001b[0m     \u001b[0;32mexcept\u001b[0m \u001b[0mValueError\u001b[0m\u001b[0;34m:\u001b[0m\u001b[0;34m\u001b[0m\u001b[0;34m\u001b[0m\u001b[0m\n\u001b[1;32m    846\u001b[0m         \u001b[0;32mimport\u001b[0m \u001b[0mtraceback\u001b[0m\u001b[0;34m\u001b[0m\u001b[0;34m\u001b[0m\u001b[0m\n",
      "\u001b[0;31mAssertionError\u001b[0m: \nNot equal to tolerance rtol=1e-07, atol=0\n\nMismatched elements: 2048 / 2048 (100%)\nMax absolute difference: 0.5367092\nMax relative difference: 1.2326549\n x: array([[0.462603],\n       [0.252029],\n       [0.682632],...\n y: array([[0.465155],\n       [0.545691],\n       [0.490807],..."
     ]
    }
   ],
   "source": [
    "np.testing.assert_allclose(model.predict(tmp_input), \n",
    "                           reconstructed_model.predict(tmp_input), \n",
    "                           rtol=0.0000001)"
   ]
  },
  {
   "cell_type": "code",
   "execution_count": null,
   "id": "e8f9f3ec",
   "metadata": {},
   "outputs": [],
   "source": []
  },
  {
   "cell_type": "code",
   "execution_count": 36,
   "id": "4bfae6ad",
   "metadata": {},
   "outputs": [
    {
     "name": "stdout",
     "output_type": "stream",
     "text": [
      "64/64 [==============================] - 0s 2ms/step - loss: 0.1078\n"
     ]
    },
    {
     "data": {
      "text/plain": [
       "0.1077670305967331"
      ]
     },
     "execution_count": 36,
     "metadata": {},
     "output_type": "execute_result"
    }
   ],
   "source": [
    "model.evaluate(tmp_input, tmp_target)"
   ]
  },
  {
   "cell_type": "code",
   "execution_count": 37,
   "id": "d18a279a",
   "metadata": {
    "scrolled": true
   },
   "outputs": [
    {
     "name": "stdout",
     "output_type": "stream",
     "text": [
      "64/64 [==============================] - 0s 1ms/step - loss: 0.0850\n"
     ]
    },
    {
     "data": {
      "text/plain": [
       "0.08496817201375961"
      ]
     },
     "execution_count": 37,
     "metadata": {},
     "output_type": "execute_result"
    }
   ],
   "source": [
    "reconstructed_model.evaluate(tmp_input, tmp_target)"
   ]
  },
  {
   "cell_type": "code",
   "execution_count": null,
   "id": "3329d861",
   "metadata": {},
   "outputs": [],
   "source": []
  },
  {
   "cell_type": "code",
   "execution_count": 38,
   "id": "a55c7e83",
   "metadata": {},
   "outputs": [],
   "source": [
    "path = \"my_model_1\""
   ]
  },
  {
   "cell_type": "code",
   "execution_count": 39,
   "id": "1d59b61a",
   "metadata": {},
   "outputs": [],
   "source": [
    "reconstructed_model = keras.models.load_model(path)"
   ]
  },
  {
   "cell_type": "code",
   "execution_count": 40,
   "id": "45100a64",
   "metadata": {},
   "outputs": [
    {
     "name": "stdout",
     "output_type": "stream",
     "text": [
      "64/64 [==============================] - 0s 1ms/step - loss: 0.1078\n"
     ]
    },
    {
     "data": {
      "text/plain": [
       "0.1077670305967331"
      ]
     },
     "execution_count": 40,
     "metadata": {},
     "output_type": "execute_result"
    }
   ],
   "source": [
    "reconstructed_model.evaluate(tmp_input, tmp_target)"
   ]
  },
  {
   "cell_type": "code",
   "execution_count": 41,
   "id": "c69c6f47",
   "metadata": {},
   "outputs": [
    {
     "name": "stdout",
     "output_type": "stream",
     "text": [
      "64/64 [==============================] - 0s 1ms/step\n",
      "64/64 [==============================] - 0s 1ms/step\n"
     ]
    }
   ],
   "source": [
    "np.testing.assert_allclose(model.predict(tmp_input), \n",
    "                           reconstructed_model.predict(tmp_input), \n",
    "                           rtol=0.0000001)"
   ]
  },
  {
   "cell_type": "code",
   "execution_count": null,
   "id": "4b1b146a",
   "metadata": {},
   "outputs": [],
   "source": []
  },
  {
   "cell_type": "code",
   "execution_count": 42,
   "id": "52c56e69",
   "metadata": {},
   "outputs": [
    {
     "name": "stdout",
     "output_type": "stream",
     "text": [
      "Epoch 1/5\n",
      "64/64 [==============================] - 0s 2ms/step - loss: 0.1046\n",
      "Epoch 2/5\n",
      "64/64 [==============================] - 0s 3ms/step - loss: 0.1001\n",
      "Epoch 3/5\n",
      "64/64 [==============================] - 0s 2ms/step - loss: 0.0962\n",
      "Epoch 4/5\n",
      "64/64 [==============================] - 0s 2ms/step - loss: 0.0934\n",
      "Epoch 5/5\n",
      "64/64 [==============================] - 0s 2ms/step - loss: 0.0911\n"
     ]
    },
    {
     "data": {
      "text/plain": [
       "<keras.callbacks.History at 0x7ff59060d220>"
      ]
     },
     "execution_count": 42,
     "metadata": {},
     "output_type": "execute_result"
    }
   ],
   "source": [
    "reconstructed_model.fit(tmp_input, tmp_target, epochs=5)"
   ]
  },
  {
   "cell_type": "code",
   "execution_count": 43,
   "id": "bf9ce16d",
   "metadata": {},
   "outputs": [
    {
     "name": "stdout",
     "output_type": "stream",
     "text": [
      "INFO:tensorflow:Assets written to: my_model_2/assets\n"
     ]
    }
   ],
   "source": [
    "path_2 = \"my_model_2\"\n",
    "reconstructed_model.save(path_2)"
   ]
  },
  {
   "cell_type": "markdown",
   "id": "719c7f33",
   "metadata": {},
   "source": [
    "\"model\""
   ]
  },
  {
   "cell_type": "markdown",
   "id": "0c59d236",
   "metadata": {},
   "source": [
    "\"yolo_v5_416\", \"resnet18_epoch100\", unet256, unet512"
   ]
  },
  {
   "cell_type": "markdown",
   "id": "35b429ec",
   "metadata": {},
   "source": [
    "# Сохранение в формате keras h5"
   ]
  },
  {
   "cell_type": "markdown",
   "id": "6ed4747d",
   "metadata": {},
   "source": [
    "## Базовая модель"
   ]
  },
  {
   "cell_type": "code",
   "execution_count": 44,
   "id": "973f20ff",
   "metadata": {},
   "outputs": [],
   "source": [
    "def get_model():\n",
    "    inputs = keras.Input(shape=(32,))\n",
    "    outputs = keras.layers.Dense(1)(inputs)\n",
    "    model = keras.Model(inputs, outputs)\n",
    "    \n",
    "    model.compile(optimizer=\"adam\", loss=\"mean_squared_error\")\n",
    "    \n",
    "    return model"
   ]
  },
  {
   "cell_type": "code",
   "execution_count": 45,
   "id": "ecda0edf",
   "metadata": {},
   "outputs": [],
   "source": [
    "model = get_model()"
   ]
  },
  {
   "cell_type": "code",
   "execution_count": 46,
   "id": "1de50b7e",
   "metadata": {},
   "outputs": [
    {
     "name": "stdout",
     "output_type": "stream",
     "text": [
      "Model: \"model_1\"\n",
      "_________________________________________________________________\n",
      " Layer (type)                Output Shape              Param #   \n",
      "=================================================================\n",
      " input_2 (InputLayer)        [(None, 32)]              0         \n",
      "                                                                 \n",
      " dense_1 (Dense)             (None, 1)                 33        \n",
      "                                                                 \n",
      "=================================================================\n",
      "Total params: 33\n",
      "Trainable params: 33\n",
      "Non-trainable params: 0\n",
      "_________________________________________________________________\n"
     ]
    }
   ],
   "source": [
    "model.summary()"
   ]
  },
  {
   "cell_type": "code",
   "execution_count": 47,
   "id": "a8c3f842",
   "metadata": {},
   "outputs": [
    {
     "name": "stdout",
     "output_type": "stream",
     "text": [
      "Epoch 1/4\n",
      "64/64 [==============================] - 0s 2ms/step - loss: 0.2435\n",
      "Epoch 2/4\n",
      "64/64 [==============================] - 0s 2ms/step - loss: 0.2161\n",
      "Epoch 3/4\n",
      "64/64 [==============================] - 0s 2ms/step - loss: 0.1928\n",
      "Epoch 4/4\n",
      "64/64 [==============================] - 0s 2ms/step - loss: 0.1734\n"
     ]
    },
    {
     "data": {
      "text/plain": [
       "<keras.callbacks.History at 0x7ff5905e9dc0>"
      ]
     },
     "execution_count": 47,
     "metadata": {},
     "output_type": "execute_result"
    }
   ],
   "source": [
    "test_input = np.random.random((2048, 32))\n",
    "test_target = np.random.random((2048, 1))\n",
    "\n",
    "model.fit(test_input, test_target, epochs=4)"
   ]
  },
  {
   "cell_type": "markdown",
   "id": "72781df3",
   "metadata": {},
   "source": [
    "Сохранение"
   ]
  },
  {
   "cell_type": "code",
   "execution_count": 48,
   "id": "eff569e5",
   "metadata": {},
   "outputs": [],
   "source": [
    "keras_model_path_1 = \"my_keras_model.h5\""
   ]
  },
  {
   "cell_type": "code",
   "execution_count": 49,
   "id": "e999a1b9",
   "metadata": {},
   "outputs": [],
   "source": [
    "model.save(keras_model_path_1, save_format=\"h5\")"
   ]
  },
  {
   "cell_type": "markdown",
   "id": "0154d383",
   "metadata": {},
   "source": [
    "Загрузка модели"
   ]
  },
  {
   "cell_type": "code",
   "execution_count": 50,
   "id": "0c3a9810",
   "metadata": {},
   "outputs": [],
   "source": [
    "reconstructed_model = keras.models.load_model(keras_model_path_1)"
   ]
  },
  {
   "cell_type": "code",
   "execution_count": 51,
   "id": "60024727",
   "metadata": {},
   "outputs": [
    {
     "name": "stdout",
     "output_type": "stream",
     "text": [
      "Model: \"model_1\"\n",
      "_________________________________________________________________\n",
      " Layer (type)                Output Shape              Param #   \n",
      "=================================================================\n",
      " input_2 (InputLayer)        [(None, 32)]              0         \n",
      "                                                                 \n",
      " dense_1 (Dense)             (None, 1)                 33        \n",
      "                                                                 \n",
      "=================================================================\n",
      "Total params: 33\n",
      "Trainable params: 33\n",
      "Non-trainable params: 0\n",
      "_________________________________________________________________\n"
     ]
    }
   ],
   "source": [
    "reconstructed_model.summary()"
   ]
  },
  {
   "cell_type": "markdown",
   "id": "d425c2d6",
   "metadata": {},
   "source": [
    "Сравнение моделей"
   ]
  },
  {
   "cell_type": "code",
   "execution_count": 52,
   "id": "6dd7408f",
   "metadata": {},
   "outputs": [
    {
     "name": "stdout",
     "output_type": "stream",
     "text": [
      "64/64 [==============================] - 0s 2ms/step\n",
      "64/64 [==============================] - 0s 1ms/step\n"
     ]
    }
   ],
   "source": [
    "np.testing.assert_allclose(model.predict(test_input), \n",
    "                           reconstructed_model.predict(test_input))"
   ]
  },
  {
   "cell_type": "markdown",
   "id": "17fab60f",
   "metadata": {},
   "source": [
    "Продолжение обучения"
   ]
  },
  {
   "cell_type": "code",
   "execution_count": 53,
   "id": "31cb6d7d",
   "metadata": {},
   "outputs": [
    {
     "name": "stdout",
     "output_type": "stream",
     "text": [
      "Epoch 1/3\n",
      "64/64 [==============================] - 0s 1ms/step - loss: 0.1575\n",
      "Epoch 2/3\n",
      "64/64 [==============================] - 0s 2ms/step - loss: 0.1439\n",
      "Epoch 3/3\n",
      "64/64 [==============================] - 0s 2ms/step - loss: 0.1327\n"
     ]
    },
    {
     "data": {
      "text/plain": [
       "<keras.callbacks.History at 0x7ff5904b4070>"
      ]
     },
     "execution_count": 53,
     "metadata": {},
     "output_type": "execute_result"
    }
   ],
   "source": [
    "reconstructed_model.fit(test_input, test_target, epochs=3)"
   ]
  },
  {
   "cell_type": "code",
   "execution_count": 54,
   "id": "318691c1",
   "metadata": {},
   "outputs": [
    {
     "name": "stdout",
     "output_type": "stream",
     "text": [
      "64/64 [==============================] - 0s 1ms/step\n",
      "64/64 [==============================] - 0s 994us/step\n"
     ]
    },
    {
     "ename": "AssertionError",
     "evalue": "\nNot equal to tolerance rtol=1e-07, atol=0\n\nMismatched elements: 2048 / 2048 (100%)\nMax absolute difference: 0.2745043\nMax relative difference: 501.00482\n x: array([[ 0.281338],\n       [-0.004117],\n       [ 0.525151],...\n y: array([[0.326187],\n       [0.125643],\n       [0.535312],...",
     "output_type": "error",
     "traceback": [
      "\u001b[0;31m---------------------------------------------------------------------------\u001b[0m",
      "\u001b[0;31mAssertionError\u001b[0m                            Traceback (most recent call last)",
      "\u001b[0;32m/tmp/ipykernel_88067/2555475027.py\u001b[0m in \u001b[0;36m<module>\u001b[0;34m\u001b[0m\n\u001b[0;32m----> 1\u001b[0;31m np.testing.assert_allclose(model.predict(test_input), \n\u001b[0m\u001b[1;32m      2\u001b[0m                            reconstructed_model.predict(test_input))\n",
      "    \u001b[0;31m[... skipping hidden 1 frame]\u001b[0m\n",
      "\u001b[0;32m~/anaconda3/lib/python3.9/site-packages/numpy/testing/_private/utils.py\u001b[0m in \u001b[0;36massert_array_compare\u001b[0;34m(comparison, x, y, err_msg, verbose, header, precision, equal_nan, equal_inf)\u001b[0m\n\u001b[1;32m    842\u001b[0m                                 \u001b[0mverbose\u001b[0m\u001b[0;34m=\u001b[0m\u001b[0mverbose\u001b[0m\u001b[0;34m,\u001b[0m \u001b[0mheader\u001b[0m\u001b[0;34m=\u001b[0m\u001b[0mheader\u001b[0m\u001b[0;34m,\u001b[0m\u001b[0;34m\u001b[0m\u001b[0;34m\u001b[0m\u001b[0m\n\u001b[1;32m    843\u001b[0m                                 names=('x', 'y'), precision=precision)\n\u001b[0;32m--> 844\u001b[0;31m             \u001b[0;32mraise\u001b[0m \u001b[0mAssertionError\u001b[0m\u001b[0;34m(\u001b[0m\u001b[0mmsg\u001b[0m\u001b[0;34m)\u001b[0m\u001b[0;34m\u001b[0m\u001b[0;34m\u001b[0m\u001b[0m\n\u001b[0m\u001b[1;32m    845\u001b[0m     \u001b[0;32mexcept\u001b[0m \u001b[0mValueError\u001b[0m\u001b[0;34m:\u001b[0m\u001b[0;34m\u001b[0m\u001b[0;34m\u001b[0m\u001b[0m\n\u001b[1;32m    846\u001b[0m         \u001b[0;32mimport\u001b[0m \u001b[0mtraceback\u001b[0m\u001b[0;34m\u001b[0m\u001b[0;34m\u001b[0m\u001b[0m\n",
      "\u001b[0;31mAssertionError\u001b[0m: \nNot equal to tolerance rtol=1e-07, atol=0\n\nMismatched elements: 2048 / 2048 (100%)\nMax absolute difference: 0.2745043\nMax relative difference: 501.00482\n x: array([[ 0.281338],\n       [-0.004117],\n       [ 0.525151],...\n y: array([[0.326187],\n       [0.125643],\n       [0.535312],..."
     ]
    }
   ],
   "source": [
    "np.testing.assert_allclose(model.predict(test_input), \n",
    "                           reconstructed_model.predict(test_input))"
   ]
  },
  {
   "cell_type": "code",
   "execution_count": 55,
   "id": "e9564dcb",
   "metadata": {},
   "outputs": [],
   "source": [
    "reconstructed_model.save(\"my_keras_model_retrained_epoch_3.h5\", save_format=\"h5\")"
   ]
  },
  {
   "cell_type": "markdown",
   "id": "38516742",
   "metadata": {},
   "source": [
    "---"
   ]
  },
  {
   "cell_type": "raw",
   "id": "66cf5805",
   "metadata": {},
   "source": [
    "reconstructed_model = keras.models.load_model(model_path)\n",
    "reconstructed_model = keras.models.load_model(keras_model_path_1)"
   ]
  },
  {
   "cell_type": "code",
   "execution_count": null,
   "id": "fe102fa8",
   "metadata": {},
   "outputs": [],
   "source": []
  },
  {
   "cell_type": "code",
   "execution_count": null,
   "id": "dfcfdb95",
   "metadata": {},
   "outputs": [],
   "source": []
  }
 ],
 "metadata": {
  "kernelspec": {
   "display_name": "Python 3 (ipykernel)",
   "language": "python",
   "name": "python3"
  },
  "language_info": {
   "codemirror_mode": {
    "name": "ipython",
    "version": 3
   },
   "file_extension": ".py",
   "mimetype": "text/x-python",
   "name": "python",
   "nbconvert_exporter": "python",
   "pygments_lexer": "ipython3",
   "version": "3.9.13"
  }
 },
 "nbformat": 4,
 "nbformat_minor": 5
}
